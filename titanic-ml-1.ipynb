{
 "cells": [
  {
   "cell_type": "code",
   "execution_count": 1,
   "id": "576d4c96",
   "metadata": {
    "_cell_guid": "b1076dfc-b9ad-4769-8c92-a6c4dae69d19",
    "_uuid": "8f2839f25d086af736a60e9eeb907d3b93b6e0e5",
    "execution": {
     "iopub.execute_input": "2022-11-23T22:41:29.310621Z",
     "iopub.status.busy": "2022-11-23T22:41:29.310227Z",
     "iopub.status.idle": "2022-11-23T22:41:30.235167Z",
     "shell.execute_reply": "2022-11-23T22:41:30.233756Z"
    },
    "papermill": {
     "duration": 0.940265,
     "end_time": "2022-11-23T22:41:30.237646",
     "exception": false,
     "start_time": "2022-11-23T22:41:29.297381",
     "status": "completed"
    },
    "tags": []
   },
   "outputs": [
    {
     "name": "stdout",
     "output_type": "stream",
     "text": [
      "/kaggle/input/titanic/train.csv\n",
      "/kaggle/input/titanic/test.csv\n",
      "/kaggle/input/titanic/gender_submission.csv\n"
     ]
    }
   ],
   "source": [
    "# This Python 3 environment comes with many helpful analytics libraries installed\n",
    "# It is defined by the kaggle/python Docker image: https://github.com/kaggle/docker-python\n",
    "# For example, here's several helpful packages to load\n",
    "\n",
    "import numpy as np # linear algebra\n",
    "import pandas as pd # data processing, CSV file I/O (e.g. pd.read_csv)\n",
    "import random as rnd\n",
    "import seaborn as sns\n",
    "import matplotlib.pyplot as plt\n",
    "\n",
    "# Input data files are available in the read-only \"../input/\" directory\n",
    "# For example, running this (by clicking run or pressing Shift+Enter) will list all files under the input directory\n",
    "\n",
    "import os\n",
    "for dirname, _, filenames in os.walk('/kaggle/input'):\n",
    "    for filename in filenames:\n",
    "        print(os.path.join(dirname, filename))\n",
    "\n",
    "# You can write up to 20GB to the current directory (/kaggle/working/) that gets preserved as output when you create a version using \"Save & Run All\" \n",
    "# You can also write temporary files to /kaggle/temp/, but they won't be saved outside of the current session"
   ]
  },
  {
   "cell_type": "code",
   "execution_count": 2,
   "id": "d6fb873c",
   "metadata": {
    "execution": {
     "iopub.execute_input": "2022-11-23T22:41:30.259740Z",
     "iopub.status.busy": "2022-11-23T22:41:30.259407Z",
     "iopub.status.idle": "2022-11-23T22:41:30.264273Z",
     "shell.execute_reply": "2022-11-23T22:41:30.263320Z"
    },
    "papermill": {
     "duration": 0.018199,
     "end_time": "2022-11-23T22:41:30.266000",
     "exception": false,
     "start_time": "2022-11-23T22:41:30.247801",
     "status": "completed"
    },
    "tags": []
   },
   "outputs": [],
   "source": [
    "pd.options.display.float_format = '{:,.2f}'.format"
   ]
  },
  {
   "cell_type": "code",
   "execution_count": 3,
   "id": "4af55da4",
   "metadata": {
    "execution": {
     "iopub.execute_input": "2022-11-23T22:41:30.286978Z",
     "iopub.status.busy": "2022-11-23T22:41:30.285921Z",
     "iopub.status.idle": "2022-11-23T22:41:30.291426Z",
     "shell.execute_reply": "2022-11-23T22:41:30.289950Z"
    },
    "papermill": {
     "duration": 0.018297,
     "end_time": "2022-11-23T22:41:30.293546",
     "exception": false,
     "start_time": "2022-11-23T22:41:30.275249",
     "status": "completed"
    },
    "tags": []
   },
   "outputs": [
    {
     "name": "stdout",
     "output_type": "stream",
     "text": [
      "1.3.5\n"
     ]
    }
   ],
   "source": [
    "print(pd.__version__)"
   ]
  },
  {
   "cell_type": "code",
   "execution_count": 4,
   "id": "883d7fc6",
   "metadata": {
    "execution": {
     "iopub.execute_input": "2022-11-23T22:41:30.313138Z",
     "iopub.status.busy": "2022-11-23T22:41:30.312843Z",
     "iopub.status.idle": "2022-11-23T22:41:30.351729Z",
     "shell.execute_reply": "2022-11-23T22:41:30.350368Z"
    },
    "papermill": {
     "duration": 0.051358,
     "end_time": "2022-11-23T22:41:30.354181",
     "exception": false,
     "start_time": "2022-11-23T22:41:30.302823",
     "status": "completed"
    },
    "tags": []
   },
   "outputs": [],
   "source": [
    "train_df = pd.read_csv('/kaggle/input/titanic/train.csv')\n",
    "test_df = pd.read_csv('/kaggle/input/titanic/test.csv')\n",
    "combine = (pd.concat([train_df,test_df]))"
   ]
  },
  {
   "cell_type": "markdown",
   "id": "480b3d9a",
   "metadata": {
    "papermill": {
     "duration": 0.008341,
     "end_time": "2022-11-23T22:41:30.371503",
     "exception": false,
     "start_time": "2022-11-23T22:41:30.363162",
     "status": "completed"
    },
    "tags": []
   },
   "source": [
    "# Checking data\n",
    "\n",
    "# Summary of data\n",
    "* Null value found on Embarked(2nulls), age(177 nulls) and Cabin (687 nulls)\n",
    "* different format is used for name\n"
   ]
  },
  {
   "cell_type": "code",
   "execution_count": 5,
   "id": "124b60a8",
   "metadata": {
    "execution": {
     "iopub.execute_input": "2022-11-23T22:41:30.390944Z",
     "iopub.status.busy": "2022-11-23T22:41:30.390567Z",
     "iopub.status.idle": "2022-11-23T22:41:30.412565Z",
     "shell.execute_reply": "2022-11-23T22:41:30.411029Z"
    },
    "papermill": {
     "duration": 0.033771,
     "end_time": "2022-11-23T22:41:30.414182",
     "exception": false,
     "start_time": "2022-11-23T22:41:30.380411",
     "status": "completed"
    },
    "tags": []
   },
   "outputs": [
    {
     "data": {
      "text/html": [
       "<div>\n",
       "<style scoped>\n",
       "    .dataframe tbody tr th:only-of-type {\n",
       "        vertical-align: middle;\n",
       "    }\n",
       "\n",
       "    .dataframe tbody tr th {\n",
       "        vertical-align: top;\n",
       "    }\n",
       "\n",
       "    .dataframe thead th {\n",
       "        text-align: right;\n",
       "    }\n",
       "</style>\n",
       "<table border=\"1\" class=\"dataframe\">\n",
       "  <thead>\n",
       "    <tr style=\"text-align: right;\">\n",
       "      <th></th>\n",
       "      <th>PassengerId</th>\n",
       "      <th>Survived</th>\n",
       "      <th>Pclass</th>\n",
       "      <th>Name</th>\n",
       "      <th>Sex</th>\n",
       "      <th>Age</th>\n",
       "      <th>SibSp</th>\n",
       "      <th>Parch</th>\n",
       "      <th>Ticket</th>\n",
       "      <th>Fare</th>\n",
       "      <th>Cabin</th>\n",
       "      <th>Embarked</th>\n",
       "    </tr>\n",
       "  </thead>\n",
       "  <tbody>\n",
       "    <tr>\n",
       "      <th>0</th>\n",
       "      <td>1</td>\n",
       "      <td>0</td>\n",
       "      <td>3</td>\n",
       "      <td>Braund, Mr. Owen Harris</td>\n",
       "      <td>male</td>\n",
       "      <td>22.00</td>\n",
       "      <td>1</td>\n",
       "      <td>0</td>\n",
       "      <td>A/5 21171</td>\n",
       "      <td>7.25</td>\n",
       "      <td>NaN</td>\n",
       "      <td>S</td>\n",
       "    </tr>\n",
       "    <tr>\n",
       "      <th>1</th>\n",
       "      <td>2</td>\n",
       "      <td>1</td>\n",
       "      <td>1</td>\n",
       "      <td>Cumings, Mrs. John Bradley (Florence Briggs Th...</td>\n",
       "      <td>female</td>\n",
       "      <td>38.00</td>\n",
       "      <td>1</td>\n",
       "      <td>0</td>\n",
       "      <td>PC 17599</td>\n",
       "      <td>71.28</td>\n",
       "      <td>C85</td>\n",
       "      <td>C</td>\n",
       "    </tr>\n",
       "    <tr>\n",
       "      <th>2</th>\n",
       "      <td>3</td>\n",
       "      <td>1</td>\n",
       "      <td>3</td>\n",
       "      <td>Heikkinen, Miss. Laina</td>\n",
       "      <td>female</td>\n",
       "      <td>26.00</td>\n",
       "      <td>0</td>\n",
       "      <td>0</td>\n",
       "      <td>STON/O2. 3101282</td>\n",
       "      <td>7.92</td>\n",
       "      <td>NaN</td>\n",
       "      <td>S</td>\n",
       "    </tr>\n",
       "    <tr>\n",
       "      <th>3</th>\n",
       "      <td>4</td>\n",
       "      <td>1</td>\n",
       "      <td>1</td>\n",
       "      <td>Futrelle, Mrs. Jacques Heath (Lily May Peel)</td>\n",
       "      <td>female</td>\n",
       "      <td>35.00</td>\n",
       "      <td>1</td>\n",
       "      <td>0</td>\n",
       "      <td>113803</td>\n",
       "      <td>53.10</td>\n",
       "      <td>C123</td>\n",
       "      <td>S</td>\n",
       "    </tr>\n",
       "    <tr>\n",
       "      <th>4</th>\n",
       "      <td>5</td>\n",
       "      <td>0</td>\n",
       "      <td>3</td>\n",
       "      <td>Allen, Mr. William Henry</td>\n",
       "      <td>male</td>\n",
       "      <td>35.00</td>\n",
       "      <td>0</td>\n",
       "      <td>0</td>\n",
       "      <td>373450</td>\n",
       "      <td>8.05</td>\n",
       "      <td>NaN</td>\n",
       "      <td>S</td>\n",
       "    </tr>\n",
       "  </tbody>\n",
       "</table>\n",
       "</div>"
      ],
      "text/plain": [
       "   PassengerId  Survived  Pclass  \\\n",
       "0            1         0       3   \n",
       "1            2         1       1   \n",
       "2            3         1       3   \n",
       "3            4         1       1   \n",
       "4            5         0       3   \n",
       "\n",
       "                                                Name     Sex   Age  SibSp  \\\n",
       "0                            Braund, Mr. Owen Harris    male 22.00      1   \n",
       "1  Cumings, Mrs. John Bradley (Florence Briggs Th...  female 38.00      1   \n",
       "2                             Heikkinen, Miss. Laina  female 26.00      0   \n",
       "3       Futrelle, Mrs. Jacques Heath (Lily May Peel)  female 35.00      1   \n",
       "4                           Allen, Mr. William Henry    male 35.00      0   \n",
       "\n",
       "   Parch            Ticket  Fare Cabin Embarked  \n",
       "0      0         A/5 21171  7.25   NaN        S  \n",
       "1      0          PC 17599 71.28   C85        C  \n",
       "2      0  STON/O2. 3101282  7.92   NaN        S  \n",
       "3      0            113803 53.10  C123        S  \n",
       "4      0            373450  8.05   NaN        S  "
      ]
     },
     "execution_count": 5,
     "metadata": {},
     "output_type": "execute_result"
    }
   ],
   "source": [
    "train_df.head()"
   ]
  },
  {
   "cell_type": "code",
   "execution_count": 6,
   "id": "04cfa2eb",
   "metadata": {
    "execution": {
     "iopub.execute_input": "2022-11-23T22:41:30.435515Z",
     "iopub.status.busy": "2022-11-23T22:41:30.435173Z",
     "iopub.status.idle": "2022-11-23T22:41:30.454107Z",
     "shell.execute_reply": "2022-11-23T22:41:30.452862Z"
    },
    "papermill": {
     "duration": 0.033201,
     "end_time": "2022-11-23T22:41:30.457607",
     "exception": false,
     "start_time": "2022-11-23T22:41:30.424406",
     "status": "completed"
    },
    "tags": []
   },
   "outputs": [
    {
     "name": "stdout",
     "output_type": "stream",
     "text": [
      "<class 'pandas.core.frame.DataFrame'>\n",
      "RangeIndex: 891 entries, 0 to 890\n",
      "Data columns (total 12 columns):\n",
      " #   Column       Non-Null Count  Dtype  \n",
      "---  ------       --------------  -----  \n",
      " 0   PassengerId  891 non-null    int64  \n",
      " 1   Survived     891 non-null    int64  \n",
      " 2   Pclass       891 non-null    int64  \n",
      " 3   Name         891 non-null    object \n",
      " 4   Sex          891 non-null    object \n",
      " 5   Age          714 non-null    float64\n",
      " 6   SibSp        891 non-null    int64  \n",
      " 7   Parch        891 non-null    int64  \n",
      " 8   Ticket       891 non-null    object \n",
      " 9   Fare         891 non-null    float64\n",
      " 10  Cabin        204 non-null    object \n",
      " 11  Embarked     889 non-null    object \n",
      "dtypes: float64(2), int64(5), object(5)\n",
      "memory usage: 83.7+ KB\n"
     ]
    }
   ],
   "source": [
    "# Check for null value\n",
    "# 177 null value for age , 687 null value for Cabin\n",
    "train_df.info()"
   ]
  },
  {
   "cell_type": "code",
   "execution_count": 7,
   "id": "63c32699",
   "metadata": {
    "execution": {
     "iopub.execute_input": "2022-11-23T22:41:30.478538Z",
     "iopub.status.busy": "2022-11-23T22:41:30.478237Z",
     "iopub.status.idle": "2022-11-23T22:41:30.488498Z",
     "shell.execute_reply": "2022-11-23T22:41:30.487696Z"
    },
    "papermill": {
     "duration": 0.022721,
     "end_time": "2022-11-23T22:41:30.490173",
     "exception": false,
     "start_time": "2022-11-23T22:41:30.467452",
     "status": "completed"
    },
    "tags": []
   },
   "outputs": [
    {
     "name": "stdout",
     "output_type": "stream",
     "text": [
      "<class 'pandas.core.frame.DataFrame'>\n",
      "RangeIndex: 418 entries, 0 to 417\n",
      "Data columns (total 11 columns):\n",
      " #   Column       Non-Null Count  Dtype  \n",
      "---  ------       --------------  -----  \n",
      " 0   PassengerId  418 non-null    int64  \n",
      " 1   Pclass       418 non-null    int64  \n",
      " 2   Name         418 non-null    object \n",
      " 3   Sex          418 non-null    object \n",
      " 4   Age          332 non-null    float64\n",
      " 5   SibSp        418 non-null    int64  \n",
      " 6   Parch        418 non-null    int64  \n",
      " 7   Ticket       418 non-null    object \n",
      " 8   Fare         417 non-null    float64\n",
      " 9   Cabin        91 non-null     object \n",
      " 10  Embarked     418 non-null    object \n",
      "dtypes: float64(2), int64(4), object(5)\n",
      "memory usage: 36.0+ KB\n"
     ]
    }
   ],
   "source": [
    "test_df.info()"
   ]
  },
  {
   "cell_type": "code",
   "execution_count": 8,
   "id": "42644859",
   "metadata": {
    "execution": {
     "iopub.execute_input": "2022-11-23T22:41:30.510818Z",
     "iopub.status.busy": "2022-11-23T22:41:30.510390Z",
     "iopub.status.idle": "2022-11-23T22:41:30.522068Z",
     "shell.execute_reply": "2022-11-23T22:41:30.520940Z"
    },
    "papermill": {
     "duration": 0.023898,
     "end_time": "2022-11-23T22:41:30.523802",
     "exception": false,
     "start_time": "2022-11-23T22:41:30.499904",
     "status": "completed"
    },
    "tags": []
   },
   "outputs": [
    {
     "name": "stdout",
     "output_type": "stream",
     "text": [
      "Survived [0 1]\n",
      "Pclass [3 1 2]\n",
      "Sex ['male' 'female']\n",
      "Age [22.   38.   26.   35.     nan 54.    2.   27.   14.    4.   58.   20.\n",
      " 39.   55.   31.   34.   15.   28.    8.   19.   40.   66.   42.   21.\n",
      " 18.    3.    7.   49.   29.   65.   28.5   5.   11.   45.   17.   32.\n",
      " 16.   25.    0.83 30.   33.   23.   24.   46.   59.   71.   37.   47.\n",
      " 14.5  70.5  32.5  12.    9.   36.5  51.   55.5  40.5  44.    1.   61.\n",
      " 56.   50.   36.   45.5  20.5  62.   41.   52.   63.   23.5   0.92 43.\n",
      " 60.   10.   64.   13.   48.    0.75 53.   57.   80.   70.   24.5   6.\n",
      "  0.67 30.5   0.42 34.5  74.  ]\n",
      "SibSp [1 0 3 4 2 5 8]\n",
      "Parch [0 1 2 5 3 4 6]\n",
      "Embarked ['S' 'C' 'Q' nan]\n"
     ]
    }
   ],
   "source": [
    "class_var = ['Survived','Pclass','Sex','Age','SibSp','Parch','Embarked']\n",
    "for col in class_var:\n",
    "    print(col,train_df[col].unique())"
   ]
  },
  {
   "cell_type": "markdown",
   "id": "e1e08952",
   "metadata": {
    "papermill": {
     "duration": 0.008544,
     "end_time": "2022-11-23T22:41:30.541678",
     "exception": false,
     "start_time": "2022-11-23T22:41:30.533134",
     "status": "completed"
    },
    "tags": []
   },
   "source": [
    "# Descritpive data\n",
    "Ticket Class(Pclass) show a -0.55 correlation with Fare which is understandable as normally a higher class ticket is more expensive.\n",
    "While Pclass and Fare also show a high correlation value with Survived, the negative value of the corrlation between survived and Pclass show that the higher the class (1 is highesst, 3 is lowest) , the higher chance the passenger survived\n",
    "\n",
    "# Summary from the correlation matrix\n",
    "* Higher class, higher ticket fare\n",
    "* Higher class/higher ticket fare, higher chance to survived"
   ]
  },
  {
   "cell_type": "code",
   "execution_count": 9,
   "id": "7666a1bf",
   "metadata": {
    "execution": {
     "iopub.execute_input": "2022-11-23T22:41:30.560660Z",
     "iopub.status.busy": "2022-11-23T22:41:30.559903Z",
     "iopub.status.idle": "2022-11-23T22:41:30.583183Z",
     "shell.execute_reply": "2022-11-23T22:41:30.582121Z"
    },
    "papermill": {
     "duration": 0.034685,
     "end_time": "2022-11-23T22:41:30.584867",
     "exception": false,
     "start_time": "2022-11-23T22:41:30.550182",
     "status": "completed"
    },
    "tags": []
   },
   "outputs": [
    {
     "data": {
      "text/html": [
       "<div>\n",
       "<style scoped>\n",
       "    .dataframe tbody tr th:only-of-type {\n",
       "        vertical-align: middle;\n",
       "    }\n",
       "\n",
       "    .dataframe tbody tr th {\n",
       "        vertical-align: top;\n",
       "    }\n",
       "\n",
       "    .dataframe thead th {\n",
       "        text-align: right;\n",
       "    }\n",
       "</style>\n",
       "<table border=\"1\" class=\"dataframe\">\n",
       "  <thead>\n",
       "    <tr style=\"text-align: right;\">\n",
       "      <th></th>\n",
       "      <th>PassengerId</th>\n",
       "      <th>Survived</th>\n",
       "      <th>Pclass</th>\n",
       "      <th>Age</th>\n",
       "      <th>SibSp</th>\n",
       "      <th>Parch</th>\n",
       "      <th>Fare</th>\n",
       "    </tr>\n",
       "  </thead>\n",
       "  <tbody>\n",
       "    <tr>\n",
       "      <th>count</th>\n",
       "      <td>891.00</td>\n",
       "      <td>891.00</td>\n",
       "      <td>891.00</td>\n",
       "      <td>714.00</td>\n",
       "      <td>891.00</td>\n",
       "      <td>891.00</td>\n",
       "      <td>891.00</td>\n",
       "    </tr>\n",
       "    <tr>\n",
       "      <th>mean</th>\n",
       "      <td>446.00</td>\n",
       "      <td>0.38</td>\n",
       "      <td>2.31</td>\n",
       "      <td>29.70</td>\n",
       "      <td>0.52</td>\n",
       "      <td>0.38</td>\n",
       "      <td>32.20</td>\n",
       "    </tr>\n",
       "    <tr>\n",
       "      <th>std</th>\n",
       "      <td>257.35</td>\n",
       "      <td>0.49</td>\n",
       "      <td>0.84</td>\n",
       "      <td>14.53</td>\n",
       "      <td>1.10</td>\n",
       "      <td>0.81</td>\n",
       "      <td>49.69</td>\n",
       "    </tr>\n",
       "    <tr>\n",
       "      <th>min</th>\n",
       "      <td>1.00</td>\n",
       "      <td>0.00</td>\n",
       "      <td>1.00</td>\n",
       "      <td>0.42</td>\n",
       "      <td>0.00</td>\n",
       "      <td>0.00</td>\n",
       "      <td>0.00</td>\n",
       "    </tr>\n",
       "    <tr>\n",
       "      <th>25%</th>\n",
       "      <td>223.50</td>\n",
       "      <td>0.00</td>\n",
       "      <td>2.00</td>\n",
       "      <td>20.12</td>\n",
       "      <td>0.00</td>\n",
       "      <td>0.00</td>\n",
       "      <td>7.91</td>\n",
       "    </tr>\n",
       "    <tr>\n",
       "      <th>50%</th>\n",
       "      <td>446.00</td>\n",
       "      <td>0.00</td>\n",
       "      <td>3.00</td>\n",
       "      <td>28.00</td>\n",
       "      <td>0.00</td>\n",
       "      <td>0.00</td>\n",
       "      <td>14.45</td>\n",
       "    </tr>\n",
       "    <tr>\n",
       "      <th>75%</th>\n",
       "      <td>668.50</td>\n",
       "      <td>1.00</td>\n",
       "      <td>3.00</td>\n",
       "      <td>38.00</td>\n",
       "      <td>1.00</td>\n",
       "      <td>0.00</td>\n",
       "      <td>31.00</td>\n",
       "    </tr>\n",
       "    <tr>\n",
       "      <th>max</th>\n",
       "      <td>891.00</td>\n",
       "      <td>1.00</td>\n",
       "      <td>3.00</td>\n",
       "      <td>80.00</td>\n",
       "      <td>8.00</td>\n",
       "      <td>6.00</td>\n",
       "      <td>512.33</td>\n",
       "    </tr>\n",
       "  </tbody>\n",
       "</table>\n",
       "</div>"
      ],
      "text/plain": [
       "       PassengerId  Survived  Pclass    Age  SibSp  Parch   Fare\n",
       "count       891.00    891.00  891.00 714.00 891.00 891.00 891.00\n",
       "mean        446.00      0.38    2.31  29.70   0.52   0.38  32.20\n",
       "std         257.35      0.49    0.84  14.53   1.10   0.81  49.69\n",
       "min           1.00      0.00    1.00   0.42   0.00   0.00   0.00\n",
       "25%         223.50      0.00    2.00  20.12   0.00   0.00   7.91\n",
       "50%         446.00      0.00    3.00  28.00   0.00   0.00  14.45\n",
       "75%         668.50      1.00    3.00  38.00   1.00   0.00  31.00\n",
       "max         891.00      1.00    3.00  80.00   8.00   6.00 512.33"
      ]
     },
     "execution_count": 9,
     "metadata": {},
     "output_type": "execute_result"
    }
   ],
   "source": [
    "train_df.describe()"
   ]
  },
  {
   "cell_type": "code",
   "execution_count": 10,
   "id": "013fa068",
   "metadata": {
    "execution": {
     "iopub.execute_input": "2022-11-23T22:41:30.604277Z",
     "iopub.status.busy": "2022-11-23T22:41:30.604001Z",
     "iopub.status.idle": "2022-11-23T22:41:30.620600Z",
     "shell.execute_reply": "2022-11-23T22:41:30.619710Z"
    },
    "papermill": {
     "duration": 0.028679,
     "end_time": "2022-11-23T22:41:30.622689",
     "exception": false,
     "start_time": "2022-11-23T22:41:30.594010",
     "status": "completed"
    },
    "tags": []
   },
   "outputs": [
    {
     "data": {
      "text/html": [
       "<div>\n",
       "<style scoped>\n",
       "    .dataframe tbody tr th:only-of-type {\n",
       "        vertical-align: middle;\n",
       "    }\n",
       "\n",
       "    .dataframe tbody tr th {\n",
       "        vertical-align: top;\n",
       "    }\n",
       "\n",
       "    .dataframe thead th {\n",
       "        text-align: right;\n",
       "    }\n",
       "</style>\n",
       "<table border=\"1\" class=\"dataframe\">\n",
       "  <thead>\n",
       "    <tr style=\"text-align: right;\">\n",
       "      <th></th>\n",
       "      <th>Name</th>\n",
       "      <th>Sex</th>\n",
       "      <th>Ticket</th>\n",
       "      <th>Cabin</th>\n",
       "      <th>Embarked</th>\n",
       "    </tr>\n",
       "  </thead>\n",
       "  <tbody>\n",
       "    <tr>\n",
       "      <th>count</th>\n",
       "      <td>891</td>\n",
       "      <td>891</td>\n",
       "      <td>891</td>\n",
       "      <td>204</td>\n",
       "      <td>889</td>\n",
       "    </tr>\n",
       "    <tr>\n",
       "      <th>unique</th>\n",
       "      <td>891</td>\n",
       "      <td>2</td>\n",
       "      <td>681</td>\n",
       "      <td>147</td>\n",
       "      <td>3</td>\n",
       "    </tr>\n",
       "    <tr>\n",
       "      <th>top</th>\n",
       "      <td>Braund, Mr. Owen Harris</td>\n",
       "      <td>male</td>\n",
       "      <td>347082</td>\n",
       "      <td>B96 B98</td>\n",
       "      <td>S</td>\n",
       "    </tr>\n",
       "    <tr>\n",
       "      <th>freq</th>\n",
       "      <td>1</td>\n",
       "      <td>577</td>\n",
       "      <td>7</td>\n",
       "      <td>4</td>\n",
       "      <td>644</td>\n",
       "    </tr>\n",
       "  </tbody>\n",
       "</table>\n",
       "</div>"
      ],
      "text/plain": [
       "                           Name   Sex  Ticket    Cabin Embarked\n",
       "count                       891   891     891      204      889\n",
       "unique                      891     2     681      147        3\n",
       "top     Braund, Mr. Owen Harris  male  347082  B96 B98        S\n",
       "freq                          1   577       7        4      644"
      ]
     },
     "execution_count": 10,
     "metadata": {},
     "output_type": "execute_result"
    }
   ],
   "source": [
    "train_df.describe(include=['O'])"
   ]
  },
  {
   "cell_type": "code",
   "execution_count": 11,
   "id": "b2d31cd3",
   "metadata": {
    "execution": {
     "iopub.execute_input": "2022-11-23T22:41:30.644369Z",
     "iopub.status.busy": "2022-11-23T22:41:30.643867Z",
     "iopub.status.idle": "2022-11-23T22:41:30.658159Z",
     "shell.execute_reply": "2022-11-23T22:41:30.656886Z"
    },
    "papermill": {
     "duration": 0.026916,
     "end_time": "2022-11-23T22:41:30.659881",
     "exception": false,
     "start_time": "2022-11-23T22:41:30.632965",
     "status": "completed"
    },
    "tags": []
   },
   "outputs": [
    {
     "data": {
      "text/html": [
       "<div>\n",
       "<style scoped>\n",
       "    .dataframe tbody tr th:only-of-type {\n",
       "        vertical-align: middle;\n",
       "    }\n",
       "\n",
       "    .dataframe tbody tr th {\n",
       "        vertical-align: top;\n",
       "    }\n",
       "\n",
       "    .dataframe thead th {\n",
       "        text-align: right;\n",
       "    }\n",
       "</style>\n",
       "<table border=\"1\" class=\"dataframe\">\n",
       "  <thead>\n",
       "    <tr style=\"text-align: right;\">\n",
       "      <th></th>\n",
       "      <th>PassengerId</th>\n",
       "      <th>Survived</th>\n",
       "      <th>Pclass</th>\n",
       "      <th>Age</th>\n",
       "      <th>SibSp</th>\n",
       "      <th>Parch</th>\n",
       "      <th>Fare</th>\n",
       "    </tr>\n",
       "  </thead>\n",
       "  <tbody>\n",
       "    <tr>\n",
       "      <th>PassengerId</th>\n",
       "      <td>1.00</td>\n",
       "      <td>-0.01</td>\n",
       "      <td>-0.04</td>\n",
       "      <td>0.04</td>\n",
       "      <td>-0.06</td>\n",
       "      <td>-0.00</td>\n",
       "      <td>0.01</td>\n",
       "    </tr>\n",
       "    <tr>\n",
       "      <th>Survived</th>\n",
       "      <td>-0.01</td>\n",
       "      <td>1.00</td>\n",
       "      <td>-0.34</td>\n",
       "      <td>-0.08</td>\n",
       "      <td>-0.04</td>\n",
       "      <td>0.08</td>\n",
       "      <td>0.26</td>\n",
       "    </tr>\n",
       "    <tr>\n",
       "      <th>Pclass</th>\n",
       "      <td>-0.04</td>\n",
       "      <td>-0.34</td>\n",
       "      <td>1.00</td>\n",
       "      <td>-0.37</td>\n",
       "      <td>0.08</td>\n",
       "      <td>0.02</td>\n",
       "      <td>-0.55</td>\n",
       "    </tr>\n",
       "    <tr>\n",
       "      <th>Age</th>\n",
       "      <td>0.04</td>\n",
       "      <td>-0.08</td>\n",
       "      <td>-0.37</td>\n",
       "      <td>1.00</td>\n",
       "      <td>-0.31</td>\n",
       "      <td>-0.19</td>\n",
       "      <td>0.10</td>\n",
       "    </tr>\n",
       "    <tr>\n",
       "      <th>SibSp</th>\n",
       "      <td>-0.06</td>\n",
       "      <td>-0.04</td>\n",
       "      <td>0.08</td>\n",
       "      <td>-0.31</td>\n",
       "      <td>1.00</td>\n",
       "      <td>0.41</td>\n",
       "      <td>0.16</td>\n",
       "    </tr>\n",
       "    <tr>\n",
       "      <th>Parch</th>\n",
       "      <td>-0.00</td>\n",
       "      <td>0.08</td>\n",
       "      <td>0.02</td>\n",
       "      <td>-0.19</td>\n",
       "      <td>0.41</td>\n",
       "      <td>1.00</td>\n",
       "      <td>0.22</td>\n",
       "    </tr>\n",
       "    <tr>\n",
       "      <th>Fare</th>\n",
       "      <td>0.01</td>\n",
       "      <td>0.26</td>\n",
       "      <td>-0.55</td>\n",
       "      <td>0.10</td>\n",
       "      <td>0.16</td>\n",
       "      <td>0.22</td>\n",
       "      <td>1.00</td>\n",
       "    </tr>\n",
       "  </tbody>\n",
       "</table>\n",
       "</div>"
      ],
      "text/plain": [
       "             PassengerId  Survived  Pclass   Age  SibSp  Parch  Fare\n",
       "PassengerId         1.00     -0.01   -0.04  0.04  -0.06  -0.00  0.01\n",
       "Survived           -0.01      1.00   -0.34 -0.08  -0.04   0.08  0.26\n",
       "Pclass             -0.04     -0.34    1.00 -0.37   0.08   0.02 -0.55\n",
       "Age                 0.04     -0.08   -0.37  1.00  -0.31  -0.19  0.10\n",
       "SibSp              -0.06     -0.04    0.08 -0.31   1.00   0.41  0.16\n",
       "Parch              -0.00      0.08    0.02 -0.19   0.41   1.00  0.22\n",
       "Fare                0.01      0.26   -0.55  0.10   0.16   0.22  1.00"
      ]
     },
     "execution_count": 11,
     "metadata": {},
     "output_type": "execute_result"
    }
   ],
   "source": [
    "train_df.corr()"
   ]
  },
  {
   "cell_type": "code",
   "execution_count": 12,
   "id": "813444cf",
   "metadata": {
    "execution": {
     "iopub.execute_input": "2022-11-23T22:41:30.679723Z",
     "iopub.status.busy": "2022-11-23T22:41:30.679413Z",
     "iopub.status.idle": "2022-11-23T22:41:30.691538Z",
     "shell.execute_reply": "2022-11-23T22:41:30.690908Z"
    },
    "papermill": {
     "duration": 0.023755,
     "end_time": "2022-11-23T22:41:30.692957",
     "exception": false,
     "start_time": "2022-11-23T22:41:30.669202",
     "status": "completed"
    },
    "tags": []
   },
   "outputs": [
    {
     "data": {
      "text/html": [
       "<div>\n",
       "<style scoped>\n",
       "    .dataframe tbody tr th:only-of-type {\n",
       "        vertical-align: middle;\n",
       "    }\n",
       "\n",
       "    .dataframe tbody tr th {\n",
       "        vertical-align: top;\n",
       "    }\n",
       "\n",
       "    .dataframe thead th {\n",
       "        text-align: right;\n",
       "    }\n",
       "</style>\n",
       "<table border=\"1\" class=\"dataframe\">\n",
       "  <thead>\n",
       "    <tr style=\"text-align: right;\">\n",
       "      <th></th>\n",
       "      <th>PassengerId</th>\n",
       "      <th>Survived</th>\n",
       "      <th>Pclass</th>\n",
       "      <th>Name</th>\n",
       "      <th>Sex</th>\n",
       "      <th>Age</th>\n",
       "      <th>SibSp</th>\n",
       "      <th>Parch</th>\n",
       "      <th>Ticket</th>\n",
       "      <th>Fare</th>\n",
       "      <th>Cabin</th>\n",
       "      <th>Embarked</th>\n",
       "    </tr>\n",
       "  </thead>\n",
       "  <tbody>\n",
       "    <tr>\n",
       "      <th>0</th>\n",
       "      <td>1</td>\n",
       "      <td>0</td>\n",
       "      <td>3</td>\n",
       "      <td>Braund, Mr. Owen Harris</td>\n",
       "      <td>male</td>\n",
       "      <td>22.00</td>\n",
       "      <td>1</td>\n",
       "      <td>0</td>\n",
       "      <td>A/5 21171</td>\n",
       "      <td>7.25</td>\n",
       "      <td>NaN</td>\n",
       "      <td>S</td>\n",
       "    </tr>\n",
       "    <tr>\n",
       "      <th>1</th>\n",
       "      <td>2</td>\n",
       "      <td>1</td>\n",
       "      <td>1</td>\n",
       "      <td>Cumings, Mrs. John Bradley (Florence Briggs Th...</td>\n",
       "      <td>female</td>\n",
       "      <td>38.00</td>\n",
       "      <td>1</td>\n",
       "      <td>0</td>\n",
       "      <td>PC 17599</td>\n",
       "      <td>71.28</td>\n",
       "      <td>C85</td>\n",
       "      <td>C</td>\n",
       "    </tr>\n",
       "    <tr>\n",
       "      <th>2</th>\n",
       "      <td>3</td>\n",
       "      <td>1</td>\n",
       "      <td>3</td>\n",
       "      <td>Heikkinen, Miss. Laina</td>\n",
       "      <td>female</td>\n",
       "      <td>26.00</td>\n",
       "      <td>0</td>\n",
       "      <td>0</td>\n",
       "      <td>STON/O2. 3101282</td>\n",
       "      <td>7.92</td>\n",
       "      <td>NaN</td>\n",
       "      <td>S</td>\n",
       "    </tr>\n",
       "    <tr>\n",
       "      <th>3</th>\n",
       "      <td>4</td>\n",
       "      <td>1</td>\n",
       "      <td>1</td>\n",
       "      <td>Futrelle, Mrs. Jacques Heath (Lily May Peel)</td>\n",
       "      <td>female</td>\n",
       "      <td>35.00</td>\n",
       "      <td>1</td>\n",
       "      <td>0</td>\n",
       "      <td>113803</td>\n",
       "      <td>53.10</td>\n",
       "      <td>C123</td>\n",
       "      <td>S</td>\n",
       "    </tr>\n",
       "    <tr>\n",
       "      <th>4</th>\n",
       "      <td>5</td>\n",
       "      <td>0</td>\n",
       "      <td>3</td>\n",
       "      <td>Allen, Mr. William Henry</td>\n",
       "      <td>male</td>\n",
       "      <td>35.00</td>\n",
       "      <td>0</td>\n",
       "      <td>0</td>\n",
       "      <td>373450</td>\n",
       "      <td>8.05</td>\n",
       "      <td>NaN</td>\n",
       "      <td>S</td>\n",
       "    </tr>\n",
       "  </tbody>\n",
       "</table>\n",
       "</div>"
      ],
      "text/plain": [
       "   PassengerId  Survived  Pclass  \\\n",
       "0            1         0       3   \n",
       "1            2         1       1   \n",
       "2            3         1       3   \n",
       "3            4         1       1   \n",
       "4            5         0       3   \n",
       "\n",
       "                                                Name     Sex   Age  SibSp  \\\n",
       "0                            Braund, Mr. Owen Harris    male 22.00      1   \n",
       "1  Cumings, Mrs. John Bradley (Florence Briggs Th...  female 38.00      1   \n",
       "2                             Heikkinen, Miss. Laina  female 26.00      0   \n",
       "3       Futrelle, Mrs. Jacques Heath (Lily May Peel)  female 35.00      1   \n",
       "4                           Allen, Mr. William Henry    male 35.00      0   \n",
       "\n",
       "   Parch            Ticket  Fare Cabin Embarked  \n",
       "0      0         A/5 21171  7.25   NaN        S  \n",
       "1      0          PC 17599 71.28   C85        C  \n",
       "2      0  STON/O2. 3101282  7.92   NaN        S  \n",
       "3      0            113803 53.10  C123        S  \n",
       "4      0            373450  8.05   NaN        S  "
      ]
     },
     "execution_count": 12,
     "metadata": {},
     "output_type": "execute_result"
    }
   ],
   "source": [
    "train_df.head()"
   ]
  },
  {
   "cell_type": "markdown",
   "id": "51fc4e05",
   "metadata": {
    "execution": {
     "iopub.execute_input": "2022-11-22T16:04:46.268182Z",
     "iopub.status.busy": "2022-11-22T16:04:46.267746Z",
     "iopub.status.idle": "2022-11-22T16:04:46.273802Z",
     "shell.execute_reply": "2022-11-22T16:04:46.272539Z",
     "shell.execute_reply.started": "2022-11-22T16:04:46.268149Z"
    },
    "papermill": {
     "duration": 0.00913,
     "end_time": "2022-11-23T22:41:30.711517",
     "exception": false,
     "start_time": "2022-11-23T22:41:30.702387",
     "status": "completed"
    },
    "tags": []
   },
   "source": [
    "# Assumption\n",
    "* PassengerId can be droped as it shall not related to the chance of survival\n",
    "* Name can be dropped for now as the format is rather not standard and have a low chance to directly contribute to chance of survival"
   ]
  },
  {
   "cell_type": "markdown",
   "id": "8c04cd51",
   "metadata": {
    "papermill": {
     "duration": 0.010259,
     "end_time": "2022-11-23T22:41:30.732531",
     "exception": false,
     "start_time": "2022-11-23T22:41:30.722272",
     "status": "completed"
    },
    "tags": []
   },
   "source": [
    "# Exploratory analysis\n",
    "## Approach\n",
    "* First, the exploratory analysis will be done on cleaned data first which include Pclass,Sex,Sibsp,Parch,Fare\n",
    "* Then we will review Embarked & Age with less number of null value\n",
    "* Then we will review Name to extract useful information for the analysis\n",
    "* Ticket and Cabin would not be included for the analysis for now as \n",
    "   * Ticket does not have a aligned format and also given the situation , seems not correlated to the label\n",
    "   * Over half of the Cabin value are null value , which make it hard to complete the Cabin value for analysis and even if we try to do so, there could be a large error induced.\n",
    "\n",
    "## Findings\n",
    "\n",
    "* Pclass\n",
    "    * Shown correlation with survival rate \n",
    "    * Higher class have higher chance of survived\n",
    "* Sex\n",
    "    * Female have higher chance for survival compare to male\n",
    "* Age\n",
    "    * Majority of passenger are in the age of 15-40 years old.\n",
    "    * Children whose age below 5 have a higher survival rate\n",
    "    * Passenger with age 15-40 have a lower survial rate\n",
    "* sibsp and parch\n",
    "    * the features , Sibsp (sibiling and spouse) and parch(Parent and children) have similar meaning which are both refer to number of relatives on board and \n",
    "    * have simlar relationship with the survival rate , both the increase sibsp and parch are come with the drop of survival rate\n",
    "    * Action - create a new metrics , fam_mem ,  by combing sibsp and parch as an input for the algorithm\n",
    "* Fare \n",
    "    * Fare and Pclass are highly correlated with r^2 = -0.55\n",
    "    * higher fare come with higher survived rate"
   ]
  },
  {
   "cell_type": "code",
   "execution_count": 13,
   "id": "9bfc47a3",
   "metadata": {
    "execution": {
     "iopub.execute_input": "2022-11-23T22:41:30.755595Z",
     "iopub.status.busy": "2022-11-23T22:41:30.754484Z",
     "iopub.status.idle": "2022-11-23T22:41:30.786106Z",
     "shell.execute_reply": "2022-11-23T22:41:30.785129Z"
    },
    "papermill": {
     "duration": 0.044821,
     "end_time": "2022-11-23T22:41:30.787783",
     "exception": false,
     "start_time": "2022-11-23T22:41:30.742962",
     "status": "completed"
    },
    "tags": []
   },
   "outputs": [
    {
     "name": "stdout",
     "output_type": "stream",
     "text": [
      "Survived Rate per Pclass\n"
     ]
    },
    {
     "data": {
      "text/html": [
       "<div>\n",
       "<style scoped>\n",
       "    .dataframe tbody tr th:only-of-type {\n",
       "        vertical-align: middle;\n",
       "    }\n",
       "\n",
       "    .dataframe tbody tr th {\n",
       "        vertical-align: top;\n",
       "    }\n",
       "\n",
       "    .dataframe thead tr th {\n",
       "        text-align: left;\n",
       "    }\n",
       "\n",
       "    .dataframe thead tr:last-of-type th {\n",
       "        text-align: right;\n",
       "    }\n",
       "</style>\n",
       "<table border=\"1\" class=\"dataframe\">\n",
       "  <thead>\n",
       "    <tr>\n",
       "      <th></th>\n",
       "      <th colspan=\"2\" halign=\"left\">count</th>\n",
       "      <th colspan=\"2\" halign=\"left\">rate</th>\n",
       "    </tr>\n",
       "    <tr>\n",
       "      <th>Survived</th>\n",
       "      <th>0</th>\n",
       "      <th>1</th>\n",
       "      <th>0</th>\n",
       "      <th>1</th>\n",
       "    </tr>\n",
       "    <tr>\n",
       "      <th>Pclass</th>\n",
       "      <th></th>\n",
       "      <th></th>\n",
       "      <th></th>\n",
       "      <th></th>\n",
       "    </tr>\n",
       "  </thead>\n",
       "  <tbody>\n",
       "    <tr>\n",
       "      <th>1</th>\n",
       "      <td>80</td>\n",
       "      <td>136</td>\n",
       "      <td>37.04</td>\n",
       "      <td>62.96</td>\n",
       "    </tr>\n",
       "    <tr>\n",
       "      <th>2</th>\n",
       "      <td>97</td>\n",
       "      <td>87</td>\n",
       "      <td>52.72</td>\n",
       "      <td>47.28</td>\n",
       "    </tr>\n",
       "    <tr>\n",
       "      <th>3</th>\n",
       "      <td>372</td>\n",
       "      <td>119</td>\n",
       "      <td>75.76</td>\n",
       "      <td>24.24</td>\n",
       "    </tr>\n",
       "  </tbody>\n",
       "</table>\n",
       "</div>"
      ],
      "text/plain": [
       "         count       rate      \n",
       "Survived     0    1     0     1\n",
       "Pclass                         \n",
       "1           80  136 37.04 62.96\n",
       "2           97   87 52.72 47.28\n",
       "3          372  119 75.76 24.24"
      ]
     },
     "execution_count": 13,
     "metadata": {},
     "output_type": "execute_result"
    }
   ],
   "source": [
    "# Pclass is correlated with Survived with higher class have higher chance of survived\n",
    "print('Survived Rate per Pclass')\n",
    "Pclass_sur = train_df.pivot_table(index=['Pclass'],columns=['Survived'],values=['PassengerId'],aggfunc='count')\n",
    "Pclass_sur[[('rate',0),('rate',1)]] = Pclass_sur['PassengerId'].apply(lambda x:x/x.sum(),axis=1)*100\n",
    "Pclass_sur.rename({'PassengerId':'count'},axis=1).fillna(0)"
   ]
  },
  {
   "cell_type": "code",
   "execution_count": 14,
   "id": "a349ae59",
   "metadata": {
    "execution": {
     "iopub.execute_input": "2022-11-23T22:41:30.808899Z",
     "iopub.status.busy": "2022-11-23T22:41:30.808573Z",
     "iopub.status.idle": "2022-11-23T22:41:30.835034Z",
     "shell.execute_reply": "2022-11-23T22:41:30.833172Z"
    },
    "papermill": {
     "duration": 0.039805,
     "end_time": "2022-11-23T22:41:30.837512",
     "exception": false,
     "start_time": "2022-11-23T22:41:30.797707",
     "status": "completed"
    },
    "tags": []
   },
   "outputs": [
    {
     "name": "stdout",
     "output_type": "stream",
     "text": [
      "Survived Rate per Sex\n"
     ]
    },
    {
     "data": {
      "text/html": [
       "<div>\n",
       "<style scoped>\n",
       "    .dataframe tbody tr th:only-of-type {\n",
       "        vertical-align: middle;\n",
       "    }\n",
       "\n",
       "    .dataframe tbody tr th {\n",
       "        vertical-align: top;\n",
       "    }\n",
       "\n",
       "    .dataframe thead tr th {\n",
       "        text-align: left;\n",
       "    }\n",
       "\n",
       "    .dataframe thead tr:last-of-type th {\n",
       "        text-align: right;\n",
       "    }\n",
       "</style>\n",
       "<table border=\"1\" class=\"dataframe\">\n",
       "  <thead>\n",
       "    <tr>\n",
       "      <th></th>\n",
       "      <th colspan=\"2\" halign=\"left\">count</th>\n",
       "      <th colspan=\"2\" halign=\"left\">rate</th>\n",
       "    </tr>\n",
       "    <tr>\n",
       "      <th>Survived</th>\n",
       "      <th>0</th>\n",
       "      <th>1</th>\n",
       "      <th>0</th>\n",
       "      <th>1</th>\n",
       "    </tr>\n",
       "    <tr>\n",
       "      <th>Sex</th>\n",
       "      <th></th>\n",
       "      <th></th>\n",
       "      <th></th>\n",
       "      <th></th>\n",
       "    </tr>\n",
       "  </thead>\n",
       "  <tbody>\n",
       "    <tr>\n",
       "      <th>female</th>\n",
       "      <td>81</td>\n",
       "      <td>233</td>\n",
       "      <td>25.80</td>\n",
       "      <td>74.20</td>\n",
       "    </tr>\n",
       "    <tr>\n",
       "      <th>male</th>\n",
       "      <td>468</td>\n",
       "      <td>109</td>\n",
       "      <td>81.11</td>\n",
       "      <td>18.89</td>\n",
       "    </tr>\n",
       "  </tbody>\n",
       "</table>\n",
       "</div>"
      ],
      "text/plain": [
       "         count       rate      \n",
       "Survived     0    1     0     1\n",
       "Sex                            \n",
       "female      81  233 25.80 74.20\n",
       "male       468  109 81.11 18.89"
      ]
     },
     "execution_count": 14,
     "metadata": {},
     "output_type": "execute_result"
    }
   ],
   "source": [
    "# Female have a higher Survived rate than female\n",
    "print('Survived Rate per Sex')\n",
    "sex_sur = train_df.pivot_table(index=['Sex'],columns=['Survived'],values=['PassengerId'],aggfunc='count')\n",
    "sex_sur[[('rate',0),('rate',1)]] = sex_sur['PassengerId'].apply(lambda x:x/x.sum(),axis=1)*100\n",
    "sex_sur.rename({'PassengerId':'count'},axis=1).fillna(0)"
   ]
  },
  {
   "cell_type": "code",
   "execution_count": 15,
   "id": "8ac32fcb",
   "metadata": {
    "execution": {
     "iopub.execute_input": "2022-11-23T22:41:30.859642Z",
     "iopub.status.busy": "2022-11-23T22:41:30.859315Z",
     "iopub.status.idle": "2022-11-23T22:41:30.889215Z",
     "shell.execute_reply": "2022-11-23T22:41:30.887745Z"
    },
    "papermill": {
     "duration": 0.043246,
     "end_time": "2022-11-23T22:41:30.891320",
     "exception": false,
     "start_time": "2022-11-23T22:41:30.848074",
     "status": "completed"
    },
    "tags": []
   },
   "outputs": [
    {
     "name": "stdout",
     "output_type": "stream",
     "text": [
      "Survived Rate per SibSp\n"
     ]
    },
    {
     "data": {
      "text/html": [
       "<div>\n",
       "<style scoped>\n",
       "    .dataframe tbody tr th:only-of-type {\n",
       "        vertical-align: middle;\n",
       "    }\n",
       "\n",
       "    .dataframe tbody tr th {\n",
       "        vertical-align: top;\n",
       "    }\n",
       "\n",
       "    .dataframe thead tr th {\n",
       "        text-align: left;\n",
       "    }\n",
       "\n",
       "    .dataframe thead tr:last-of-type th {\n",
       "        text-align: right;\n",
       "    }\n",
       "</style>\n",
       "<table border=\"1\" class=\"dataframe\">\n",
       "  <thead>\n",
       "    <tr>\n",
       "      <th></th>\n",
       "      <th colspan=\"2\" halign=\"left\">count</th>\n",
       "      <th colspan=\"2\" halign=\"left\">rate</th>\n",
       "    </tr>\n",
       "    <tr>\n",
       "      <th>Survived</th>\n",
       "      <th>0</th>\n",
       "      <th>1</th>\n",
       "      <th>0</th>\n",
       "      <th>1</th>\n",
       "    </tr>\n",
       "    <tr>\n",
       "      <th>SibSp</th>\n",
       "      <th></th>\n",
       "      <th></th>\n",
       "      <th></th>\n",
       "      <th></th>\n",
       "    </tr>\n",
       "  </thead>\n",
       "  <tbody>\n",
       "    <tr>\n",
       "      <th>0</th>\n",
       "      <td>398.00</td>\n",
       "      <td>210.00</td>\n",
       "      <td>65.46</td>\n",
       "      <td>34.54</td>\n",
       "    </tr>\n",
       "    <tr>\n",
       "      <th>1</th>\n",
       "      <td>97.00</td>\n",
       "      <td>112.00</td>\n",
       "      <td>46.41</td>\n",
       "      <td>53.59</td>\n",
       "    </tr>\n",
       "    <tr>\n",
       "      <th>2</th>\n",
       "      <td>15.00</td>\n",
       "      <td>13.00</td>\n",
       "      <td>53.57</td>\n",
       "      <td>46.43</td>\n",
       "    </tr>\n",
       "    <tr>\n",
       "      <th>3</th>\n",
       "      <td>12.00</td>\n",
       "      <td>4.00</td>\n",
       "      <td>75.00</td>\n",
       "      <td>25.00</td>\n",
       "    </tr>\n",
       "    <tr>\n",
       "      <th>4</th>\n",
       "      <td>15.00</td>\n",
       "      <td>3.00</td>\n",
       "      <td>83.33</td>\n",
       "      <td>16.67</td>\n",
       "    </tr>\n",
       "    <tr>\n",
       "      <th>5</th>\n",
       "      <td>5.00</td>\n",
       "      <td>0.00</td>\n",
       "      <td>100.00</td>\n",
       "      <td>0.00</td>\n",
       "    </tr>\n",
       "    <tr>\n",
       "      <th>8</th>\n",
       "      <td>7.00</td>\n",
       "      <td>0.00</td>\n",
       "      <td>100.00</td>\n",
       "      <td>0.00</td>\n",
       "    </tr>\n",
       "  </tbody>\n",
       "</table>\n",
       "</div>"
      ],
      "text/plain": [
       "          count          rate      \n",
       "Survived      0      1      0     1\n",
       "SibSp                              \n",
       "0        398.00 210.00  65.46 34.54\n",
       "1         97.00 112.00  46.41 53.59\n",
       "2         15.00  13.00  53.57 46.43\n",
       "3         12.00   4.00  75.00 25.00\n",
       "4         15.00   3.00  83.33 16.67\n",
       "5          5.00   0.00 100.00  0.00\n",
       "8          7.00   0.00 100.00  0.00"
      ]
     },
     "execution_count": 15,
     "metadata": {},
     "output_type": "execute_result"
    }
   ],
   "source": [
    "# Findings \n",
    "# Considering the Sibsp (sibiling and spouse) and parch(Parent and children) have similar meaning which are both refer to number of relatives on board and \n",
    "# have simlar relationship with the survival rate , both the increase sibsp and parch are come with the drop of survival rate\n",
    "# Actions\n",
    "# Create a new metrics by combing sibsp and parch as an input for the algorithm\n",
    "# Majority of passenger have Sibsp = 0\n",
    "# Surival rate drop with higher Sibsp value\n",
    "\n",
    "print('Survived Rate per SibSp')\n",
    "sibsp_sur = train_df.pivot_table(index=['SibSp'],columns=['Survived'],values=['PassengerId'],aggfunc='count')\n",
    "sibsp_sur[[('rate',0),('rate',1)]] = sibsp_sur['PassengerId'].apply(lambda x:x/x.sum(),axis=1)*100\n",
    "sibsp_sur = sibsp_sur.rename({'PassengerId':'count'},axis=1).fillna(0)\n",
    "sibsp_sur"
   ]
  },
  {
   "cell_type": "code",
   "execution_count": 16,
   "id": "e82054ae",
   "metadata": {
    "execution": {
     "iopub.execute_input": "2022-11-23T22:41:30.920512Z",
     "iopub.status.busy": "2022-11-23T22:41:30.920216Z",
     "iopub.status.idle": "2022-11-23T22:41:30.952048Z",
     "shell.execute_reply": "2022-11-23T22:41:30.950416Z"
    },
    "papermill": {
     "duration": 0.04962,
     "end_time": "2022-11-23T22:41:30.955097",
     "exception": false,
     "start_time": "2022-11-23T22:41:30.905477",
     "status": "completed"
    },
    "tags": []
   },
   "outputs": [
    {
     "name": "stdout",
     "output_type": "stream",
     "text": [
      "Survived Rate per Parch\n"
     ]
    },
    {
     "data": {
      "text/html": [
       "<div>\n",
       "<style scoped>\n",
       "    .dataframe tbody tr th:only-of-type {\n",
       "        vertical-align: middle;\n",
       "    }\n",
       "\n",
       "    .dataframe tbody tr th {\n",
       "        vertical-align: top;\n",
       "    }\n",
       "\n",
       "    .dataframe thead tr th {\n",
       "        text-align: left;\n",
       "    }\n",
       "\n",
       "    .dataframe thead tr:last-of-type th {\n",
       "        text-align: right;\n",
       "    }\n",
       "</style>\n",
       "<table border=\"1\" class=\"dataframe\">\n",
       "  <thead>\n",
       "    <tr>\n",
       "      <th></th>\n",
       "      <th colspan=\"2\" halign=\"left\">count</th>\n",
       "      <th colspan=\"2\" halign=\"left\">rate</th>\n",
       "    </tr>\n",
       "    <tr>\n",
       "      <th>Survived</th>\n",
       "      <th>0</th>\n",
       "      <th>1</th>\n",
       "      <th>0</th>\n",
       "      <th>1</th>\n",
       "    </tr>\n",
       "    <tr>\n",
       "      <th>Parch</th>\n",
       "      <th></th>\n",
       "      <th></th>\n",
       "      <th></th>\n",
       "      <th></th>\n",
       "    </tr>\n",
       "  </thead>\n",
       "  <tbody>\n",
       "    <tr>\n",
       "      <th>0</th>\n",
       "      <td>445.00</td>\n",
       "      <td>233.00</td>\n",
       "      <td>65.63</td>\n",
       "      <td>34.37</td>\n",
       "    </tr>\n",
       "    <tr>\n",
       "      <th>1</th>\n",
       "      <td>53.00</td>\n",
       "      <td>65.00</td>\n",
       "      <td>44.92</td>\n",
       "      <td>55.08</td>\n",
       "    </tr>\n",
       "    <tr>\n",
       "      <th>2</th>\n",
       "      <td>40.00</td>\n",
       "      <td>40.00</td>\n",
       "      <td>50.00</td>\n",
       "      <td>50.00</td>\n",
       "    </tr>\n",
       "    <tr>\n",
       "      <th>3</th>\n",
       "      <td>2.00</td>\n",
       "      <td>3.00</td>\n",
       "      <td>40.00</td>\n",
       "      <td>60.00</td>\n",
       "    </tr>\n",
       "    <tr>\n",
       "      <th>4</th>\n",
       "      <td>4.00</td>\n",
       "      <td>0.00</td>\n",
       "      <td>100.00</td>\n",
       "      <td>0.00</td>\n",
       "    </tr>\n",
       "    <tr>\n",
       "      <th>5</th>\n",
       "      <td>4.00</td>\n",
       "      <td>1.00</td>\n",
       "      <td>80.00</td>\n",
       "      <td>20.00</td>\n",
       "    </tr>\n",
       "    <tr>\n",
       "      <th>6</th>\n",
       "      <td>1.00</td>\n",
       "      <td>0.00</td>\n",
       "      <td>100.00</td>\n",
       "      <td>0.00</td>\n",
       "    </tr>\n",
       "  </tbody>\n",
       "</table>\n",
       "</div>"
      ],
      "text/plain": [
       "          count          rate      \n",
       "Survived      0      1      0     1\n",
       "Parch                              \n",
       "0        445.00 233.00  65.63 34.37\n",
       "1         53.00  65.00  44.92 55.08\n",
       "2         40.00  40.00  50.00 50.00\n",
       "3          2.00   3.00  40.00 60.00\n",
       "4          4.00   0.00 100.00  0.00\n",
       "5          4.00   1.00  80.00 20.00\n",
       "6          1.00   0.00 100.00  0.00"
      ]
     },
     "execution_count": 16,
     "metadata": {},
     "output_type": "execute_result"
    }
   ],
   "source": [
    "# Majority of passenger have parch = 0\n",
    "# Surival rate drop with higher parch value\n",
    "\n",
    "print('Survived Rate per Parch')\n",
    "Parch_sur = train_df.pivot_table(index=['Parch'],columns=['Survived'],values=['PassengerId'],aggfunc='count')\n",
    "Parch_sur[[('rate',0),('rate',1)]] = Parch_sur['PassengerId'].apply(lambda x:x/x.sum(),axis=1)*100\n",
    "Parch_sur = Parch_sur.rename({'PassengerId':'count'},axis=1).fillna(0)\n",
    "Parch_sur"
   ]
  },
  {
   "cell_type": "code",
   "execution_count": 17,
   "id": "f8150708",
   "metadata": {
    "execution": {
     "iopub.execute_input": "2022-11-23T22:41:30.979558Z",
     "iopub.status.busy": "2022-11-23T22:41:30.979159Z",
     "iopub.status.idle": "2022-11-23T22:41:31.006314Z",
     "shell.execute_reply": "2022-11-23T22:41:31.005184Z"
    },
    "papermill": {
     "duration": 0.042152,
     "end_time": "2022-11-23T22:41:31.008725",
     "exception": false,
     "start_time": "2022-11-23T22:41:30.966573",
     "status": "completed"
    },
    "tags": []
   },
   "outputs": [
    {
     "name": "stdout",
     "output_type": "stream",
     "text": [
      "Survived Rate per fam_mem_sur\n"
     ]
    },
    {
     "data": {
      "text/html": [
       "<div>\n",
       "<style scoped>\n",
       "    .dataframe tbody tr th:only-of-type {\n",
       "        vertical-align: middle;\n",
       "    }\n",
       "\n",
       "    .dataframe tbody tr th {\n",
       "        vertical-align: top;\n",
       "    }\n",
       "\n",
       "    .dataframe thead tr th {\n",
       "        text-align: left;\n",
       "    }\n",
       "\n",
       "    .dataframe thead tr:last-of-type th {\n",
       "        text-align: right;\n",
       "    }\n",
       "</style>\n",
       "<table border=\"1\" class=\"dataframe\">\n",
       "  <thead>\n",
       "    <tr>\n",
       "      <th></th>\n",
       "      <th colspan=\"2\" halign=\"left\">count</th>\n",
       "      <th colspan=\"2\" halign=\"left\">rate</th>\n",
       "    </tr>\n",
       "    <tr>\n",
       "      <th>Survived</th>\n",
       "      <th>0</th>\n",
       "      <th>1</th>\n",
       "      <th>0</th>\n",
       "      <th>1</th>\n",
       "    </tr>\n",
       "    <tr>\n",
       "      <th>fam_mem</th>\n",
       "      <th></th>\n",
       "      <th></th>\n",
       "      <th></th>\n",
       "      <th></th>\n",
       "    </tr>\n",
       "  </thead>\n",
       "  <tbody>\n",
       "    <tr>\n",
       "      <th>0</th>\n",
       "      <td>374.00</td>\n",
       "      <td>163.00</td>\n",
       "      <td>69.65</td>\n",
       "      <td>30.35</td>\n",
       "    </tr>\n",
       "    <tr>\n",
       "      <th>1</th>\n",
       "      <td>72.00</td>\n",
       "      <td>89.00</td>\n",
       "      <td>44.72</td>\n",
       "      <td>55.28</td>\n",
       "    </tr>\n",
       "    <tr>\n",
       "      <th>2</th>\n",
       "      <td>43.00</td>\n",
       "      <td>59.00</td>\n",
       "      <td>42.16</td>\n",
       "      <td>57.84</td>\n",
       "    </tr>\n",
       "    <tr>\n",
       "      <th>3</th>\n",
       "      <td>8.00</td>\n",
       "      <td>21.00</td>\n",
       "      <td>27.59</td>\n",
       "      <td>72.41</td>\n",
       "    </tr>\n",
       "    <tr>\n",
       "      <th>4</th>\n",
       "      <td>12.00</td>\n",
       "      <td>3.00</td>\n",
       "      <td>80.00</td>\n",
       "      <td>20.00</td>\n",
       "    </tr>\n",
       "    <tr>\n",
       "      <th>5</th>\n",
       "      <td>19.00</td>\n",
       "      <td>3.00</td>\n",
       "      <td>86.36</td>\n",
       "      <td>13.64</td>\n",
       "    </tr>\n",
       "    <tr>\n",
       "      <th>6</th>\n",
       "      <td>8.00</td>\n",
       "      <td>4.00</td>\n",
       "      <td>66.67</td>\n",
       "      <td>33.33</td>\n",
       "    </tr>\n",
       "    <tr>\n",
       "      <th>7</th>\n",
       "      <td>6.00</td>\n",
       "      <td>0.00</td>\n",
       "      <td>100.00</td>\n",
       "      <td>0.00</td>\n",
       "    </tr>\n",
       "    <tr>\n",
       "      <th>10</th>\n",
       "      <td>7.00</td>\n",
       "      <td>0.00</td>\n",
       "      <td>100.00</td>\n",
       "      <td>0.00</td>\n",
       "    </tr>\n",
       "  </tbody>\n",
       "</table>\n",
       "</div>"
      ],
      "text/plain": [
       "          count          rate      \n",
       "Survived      0      1      0     1\n",
       "fam_mem                            \n",
       "0        374.00 163.00  69.65 30.35\n",
       "1         72.00  89.00  44.72 55.28\n",
       "2         43.00  59.00  42.16 57.84\n",
       "3          8.00  21.00  27.59 72.41\n",
       "4         12.00   3.00  80.00 20.00\n",
       "5         19.00   3.00  86.36 13.64\n",
       "6          8.00   4.00  66.67 33.33\n",
       "7          6.00   0.00 100.00  0.00\n",
       "10         7.00   0.00 100.00  0.00"
      ]
     },
     "execution_count": 17,
     "metadata": {},
     "output_type": "execute_result"
    }
   ],
   "source": [
    "# Creating new columns for both train and test dataset \n",
    "train_df['fam_mem'] = train_df['SibSp']+train_df['Parch']\n",
    "test_df['fam_mem'] = test_df['SibSp']+test_df['Parch']\n",
    "\n",
    "# reviewing the data with this new metrics 'fam_mem'\n",
    "print('Survived Rate per fam_mem_sur')\n",
    "fam_mem_sur = train_df.pivot_table(index=['fam_mem'],columns=['Survived'],values=['PassengerId'],aggfunc='count')\n",
    "fam_mem_sur[[('rate',0),('rate',1)]] = fam_mem_sur['PassengerId'].apply(lambda x:x/x.sum(),axis=1)*100\n",
    "fam_mem_sur = fam_mem_sur.rename({'PassengerId':'count'},axis=1).fillna(0)\n",
    "fam_mem_sur"
   ]
  },
  {
   "cell_type": "code",
   "execution_count": 18,
   "id": "0e606534",
   "metadata": {
    "execution": {
     "iopub.execute_input": "2022-11-23T22:41:31.032607Z",
     "iopub.status.busy": "2022-11-23T22:41:31.032291Z",
     "iopub.status.idle": "2022-11-23T22:41:31.060729Z",
     "shell.execute_reply": "2022-11-23T22:41:31.059731Z"
    },
    "papermill": {
     "duration": 0.042183,
     "end_time": "2022-11-23T22:41:31.062545",
     "exception": false,
     "start_time": "2022-11-23T22:41:31.020362",
     "status": "completed"
    },
    "tags": []
   },
   "outputs": [
    {
     "data": {
      "text/html": [
       "<div>\n",
       "<style scoped>\n",
       "    .dataframe tbody tr th:only-of-type {\n",
       "        vertical-align: middle;\n",
       "    }\n",
       "\n",
       "    .dataframe tbody tr th {\n",
       "        vertical-align: top;\n",
       "    }\n",
       "\n",
       "    .dataframe thead th {\n",
       "        text-align: right;\n",
       "    }\n",
       "</style>\n",
       "<table border=\"1\" class=\"dataframe\">\n",
       "  <thead>\n",
       "    <tr style=\"text-align: right;\">\n",
       "      <th></th>\n",
       "      <th>PassengerId</th>\n",
       "      <th>Survived</th>\n",
       "      <th>Pclass</th>\n",
       "      <th>Age</th>\n",
       "      <th>SibSp</th>\n",
       "      <th>Parch</th>\n",
       "      <th>Fare</th>\n",
       "      <th>fam_mem</th>\n",
       "    </tr>\n",
       "  </thead>\n",
       "  <tbody>\n",
       "    <tr>\n",
       "      <th>count</th>\n",
       "      <td>891.00</td>\n",
       "      <td>891.00</td>\n",
       "      <td>891.00</td>\n",
       "      <td>714.00</td>\n",
       "      <td>891.00</td>\n",
       "      <td>891.00</td>\n",
       "      <td>891.00</td>\n",
       "      <td>891.00</td>\n",
       "    </tr>\n",
       "    <tr>\n",
       "      <th>mean</th>\n",
       "      <td>446.00</td>\n",
       "      <td>0.38</td>\n",
       "      <td>2.31</td>\n",
       "      <td>29.70</td>\n",
       "      <td>0.52</td>\n",
       "      <td>0.38</td>\n",
       "      <td>32.20</td>\n",
       "      <td>0.90</td>\n",
       "    </tr>\n",
       "    <tr>\n",
       "      <th>std</th>\n",
       "      <td>257.35</td>\n",
       "      <td>0.49</td>\n",
       "      <td>0.84</td>\n",
       "      <td>14.53</td>\n",
       "      <td>1.10</td>\n",
       "      <td>0.81</td>\n",
       "      <td>49.69</td>\n",
       "      <td>1.61</td>\n",
       "    </tr>\n",
       "    <tr>\n",
       "      <th>min</th>\n",
       "      <td>1.00</td>\n",
       "      <td>0.00</td>\n",
       "      <td>1.00</td>\n",
       "      <td>0.42</td>\n",
       "      <td>0.00</td>\n",
       "      <td>0.00</td>\n",
       "      <td>0.00</td>\n",
       "      <td>0.00</td>\n",
       "    </tr>\n",
       "    <tr>\n",
       "      <th>25%</th>\n",
       "      <td>223.50</td>\n",
       "      <td>0.00</td>\n",
       "      <td>2.00</td>\n",
       "      <td>20.12</td>\n",
       "      <td>0.00</td>\n",
       "      <td>0.00</td>\n",
       "      <td>7.91</td>\n",
       "      <td>0.00</td>\n",
       "    </tr>\n",
       "    <tr>\n",
       "      <th>50%</th>\n",
       "      <td>446.00</td>\n",
       "      <td>0.00</td>\n",
       "      <td>3.00</td>\n",
       "      <td>28.00</td>\n",
       "      <td>0.00</td>\n",
       "      <td>0.00</td>\n",
       "      <td>14.45</td>\n",
       "      <td>0.00</td>\n",
       "    </tr>\n",
       "    <tr>\n",
       "      <th>75%</th>\n",
       "      <td>668.50</td>\n",
       "      <td>1.00</td>\n",
       "      <td>3.00</td>\n",
       "      <td>38.00</td>\n",
       "      <td>1.00</td>\n",
       "      <td>0.00</td>\n",
       "      <td>31.00</td>\n",
       "      <td>1.00</td>\n",
       "    </tr>\n",
       "    <tr>\n",
       "      <th>max</th>\n",
       "      <td>891.00</td>\n",
       "      <td>1.00</td>\n",
       "      <td>3.00</td>\n",
       "      <td>80.00</td>\n",
       "      <td>8.00</td>\n",
       "      <td>6.00</td>\n",
       "      <td>512.33</td>\n",
       "      <td>10.00</td>\n",
       "    </tr>\n",
       "  </tbody>\n",
       "</table>\n",
       "</div>"
      ],
      "text/plain": [
       "       PassengerId  Survived  Pclass    Age  SibSp  Parch   Fare  fam_mem\n",
       "count       891.00    891.00  891.00 714.00 891.00 891.00 891.00   891.00\n",
       "mean        446.00      0.38    2.31  29.70   0.52   0.38  32.20     0.90\n",
       "std         257.35      0.49    0.84  14.53   1.10   0.81  49.69     1.61\n",
       "min           1.00      0.00    1.00   0.42   0.00   0.00   0.00     0.00\n",
       "25%         223.50      0.00    2.00  20.12   0.00   0.00   7.91     0.00\n",
       "50%         446.00      0.00    3.00  28.00   0.00   0.00  14.45     0.00\n",
       "75%         668.50      1.00    3.00  38.00   1.00   0.00  31.00     1.00\n",
       "max         891.00      1.00    3.00  80.00   8.00   6.00 512.33    10.00"
      ]
     },
     "execution_count": 18,
     "metadata": {},
     "output_type": "execute_result"
    }
   ],
   "source": [
    "train_df.describe()"
   ]
  },
  {
   "cell_type": "code",
   "execution_count": 19,
   "id": "08ccdbab",
   "metadata": {
    "execution": {
     "iopub.execute_input": "2022-11-23T22:41:31.087693Z",
     "iopub.status.busy": "2022-11-23T22:41:31.087172Z",
     "iopub.status.idle": "2022-11-23T22:41:32.199087Z",
     "shell.execute_reply": "2022-11-23T22:41:32.197264Z"
    },
    "papermill": {
     "duration": 1.12666,
     "end_time": "2022-11-23T22:41:32.201009",
     "exception": false,
     "start_time": "2022-11-23T22:41:31.074349",
     "status": "completed"
    },
    "tags": []
   },
   "outputs": [
    {
     "name": "stdout",
     "output_type": "stream",
     "text": [
      "r^2 of Fare and Pclass:  -0.55\n"
     ]
    },
    {
     "data": {
      "image/png": "[encoded data removed]",
      "text/plain": [
       "<Figure size 720x1080 with 6 Axes>"
      ]
     },
     "metadata": {
      "needs_background": "light"
     },
     "output_type": "display_data"
    }
   ],
   "source": [
    "# Fare and Pclass are highly correlated with r^2 = -0.55\n",
    "# higher fare come with higher survived rate\n",
    "print('r^2 of Fare and Pclass: ','%.2f' % train_df.corr().loc['Pclass','Fare'])\n",
    "Fare_dist = sns.displot(data=train_df,x='Fare',col='Survived',row='Pclass',facet_kws={'sharey':'row','sharex':'row'},common_bins=False)"
   ]
  },
  {
   "cell_type": "code",
   "execution_count": 20,
   "id": "4737815d",
   "metadata": {
    "execution": {
     "iopub.execute_input": "2022-11-23T22:41:32.229113Z",
     "iopub.status.busy": "2022-11-23T22:41:32.228771Z",
     "iopub.status.idle": "2022-11-23T22:41:32.641291Z",
     "shell.execute_reply": "2022-11-23T22:41:32.639635Z"
    },
    "papermill": {
     "duration": 0.42927,
     "end_time": "2022-11-23T22:41:32.643822",
     "exception": false,
     "start_time": "2022-11-23T22:41:32.214552",
     "status": "completed"
    },
    "tags": []
   },
   "outputs": [
    {
     "data": {
      "text/plain": [
       "<seaborn.axisgrid.FacetGrid at 0x7f38270afe50>"
      ]
     },
     "execution_count": 20,
     "metadata": {},
     "output_type": "execute_result"
    },
    {
     "data": {
      "image/png": "[encoded data removed]",
      "text/plain": [
       "<Figure size 720x360 with 2 Axes>"
      ]
     },
     "metadata": {
      "needs_background": "light"
     },
     "output_type": "display_data"
    }
   ],
   "source": [
    "# higher fare come with higher survived rate\n",
    "sns.displot(data=train_df,x='Fare',col='Survived',common_bins=True,bins=20)"
   ]
  },
  {
   "cell_type": "code",
   "execution_count": 21,
   "id": "9bb5d30e",
   "metadata": {
    "execution": {
     "iopub.execute_input": "2022-11-23T22:41:32.671008Z",
     "iopub.status.busy": "2022-11-23T22:41:32.670152Z",
     "iopub.status.idle": "2022-11-23T22:41:32.695011Z",
     "shell.execute_reply": "2022-11-23T22:41:32.694452Z"
    },
    "papermill": {
     "duration": 0.039427,
     "end_time": "2022-11-23T22:41:32.696429",
     "exception": false,
     "start_time": "2022-11-23T22:41:32.657002",
     "status": "completed"
    },
    "tags": []
   },
   "outputs": [
    {
     "data": {
      "text/html": [
       "<div>\n",
       "<style scoped>\n",
       "    .dataframe tbody tr th:only-of-type {\n",
       "        vertical-align: middle;\n",
       "    }\n",
       "\n",
       "    .dataframe tbody tr th {\n",
       "        vertical-align: top;\n",
       "    }\n",
       "\n",
       "    .dataframe thead tr th {\n",
       "        text-align: left;\n",
       "    }\n",
       "\n",
       "    .dataframe thead tr:last-of-type th {\n",
       "        text-align: right;\n",
       "    }\n",
       "</style>\n",
       "<table border=\"1\" class=\"dataframe\">\n",
       "  <thead>\n",
       "    <tr>\n",
       "      <th></th>\n",
       "      <th colspan=\"2\" halign=\"left\">count</th>\n",
       "      <th colspan=\"2\" halign=\"left\">rate</th>\n",
       "    </tr>\n",
       "    <tr>\n",
       "      <th>Survived</th>\n",
       "      <th>0</th>\n",
       "      <th>1</th>\n",
       "      <th>0</th>\n",
       "      <th>1</th>\n",
       "    </tr>\n",
       "    <tr>\n",
       "      <th>Embarked</th>\n",
       "      <th></th>\n",
       "      <th></th>\n",
       "      <th></th>\n",
       "      <th></th>\n",
       "    </tr>\n",
       "  </thead>\n",
       "  <tbody>\n",
       "    <tr>\n",
       "      <th>C</th>\n",
       "      <td>75</td>\n",
       "      <td>93</td>\n",
       "      <td>44.64</td>\n",
       "      <td>55.36</td>\n",
       "    </tr>\n",
       "    <tr>\n",
       "      <th>Q</th>\n",
       "      <td>47</td>\n",
       "      <td>30</td>\n",
       "      <td>61.04</td>\n",
       "      <td>38.96</td>\n",
       "    </tr>\n",
       "    <tr>\n",
       "      <th>S</th>\n",
       "      <td>427</td>\n",
       "      <td>217</td>\n",
       "      <td>66.30</td>\n",
       "      <td>33.70</td>\n",
       "    </tr>\n",
       "  </tbody>\n",
       "</table>\n",
       "</div>"
      ],
      "text/plain": [
       "         count       rate      \n",
       "Survived     0    1     0     1\n",
       "Embarked                       \n",
       "C           75   93 44.64 55.36\n",
       "Q           47   30 61.04 38.96\n",
       "S          427  217 66.30 33.70"
      ]
     },
     "execution_count": 21,
     "metadata": {},
     "output_type": "execute_result"
    }
   ],
   "source": [
    "# Passenger who embarked from Cherbourg have a higher rate of surviving compare to Queenstown and Southampton\n",
    "Embarked_sur = train_df.pivot_table(index=['Embarked'],columns=['Survived'],values=['PassengerId'],aggfunc='count')\n",
    "Embarked_sur[[('rate',0),('rate',1)]] = Embarked_sur['PassengerId'].apply(lambda x:x/x.sum(),axis=1)*100\n",
    "Embarked_sur = Embarked_sur.rename({'PassengerId':'count'},axis=1).fillna(0)\n",
    "Embarked_sur"
   ]
  },
  {
   "cell_type": "code",
   "execution_count": 22,
   "id": "14df83e2",
   "metadata": {
    "execution": {
     "iopub.execute_input": "2022-11-23T22:41:32.723261Z",
     "iopub.status.busy": "2022-11-23T22:41:32.722953Z",
     "iopub.status.idle": "2022-11-23T22:41:32.737746Z",
     "shell.execute_reply": "2022-11-23T22:41:32.736656Z"
    },
    "papermill": {
     "duration": 0.030349,
     "end_time": "2022-11-23T22:41:32.739482",
     "exception": false,
     "start_time": "2022-11-23T22:41:32.709133",
     "status": "completed"
    },
    "tags": []
   },
   "outputs": [
    {
     "data": {
      "text/html": [
       "<div>\n",
       "<style scoped>\n",
       "    .dataframe tbody tr th:only-of-type {\n",
       "        vertical-align: middle;\n",
       "    }\n",
       "\n",
       "    .dataframe tbody tr th {\n",
       "        vertical-align: top;\n",
       "    }\n",
       "\n",
       "    .dataframe thead th {\n",
       "        text-align: right;\n",
       "    }\n",
       "</style>\n",
       "<table border=\"1\" class=\"dataframe\">\n",
       "  <thead>\n",
       "    <tr style=\"text-align: right;\">\n",
       "      <th></th>\n",
       "      <th>PassengerId</th>\n",
       "      <th>Survived</th>\n",
       "      <th>Pclass</th>\n",
       "      <th>Name</th>\n",
       "      <th>Sex</th>\n",
       "      <th>Age</th>\n",
       "      <th>SibSp</th>\n",
       "      <th>Parch</th>\n",
       "      <th>Ticket</th>\n",
       "      <th>Fare</th>\n",
       "      <th>Cabin</th>\n",
       "      <th>Embarked</th>\n",
       "    </tr>\n",
       "  </thead>\n",
       "  <tbody>\n",
       "    <tr>\n",
       "      <th>61</th>\n",
       "      <td>62</td>\n",
       "      <td>1.00</td>\n",
       "      <td>1</td>\n",
       "      <td>Icard, Miss. Amelie</td>\n",
       "      <td>female</td>\n",
       "      <td>38.00</td>\n",
       "      <td>0</td>\n",
       "      <td>0</td>\n",
       "      <td>113572</td>\n",
       "      <td>80.00</td>\n",
       "      <td>B28</td>\n",
       "      <td>NaN</td>\n",
       "    </tr>\n",
       "    <tr>\n",
       "      <th>829</th>\n",
       "      <td>830</td>\n",
       "      <td>1.00</td>\n",
       "      <td>1</td>\n",
       "      <td>Stone, Mrs. George Nelson (Martha Evelyn)</td>\n",
       "      <td>female</td>\n",
       "      <td>62.00</td>\n",
       "      <td>0</td>\n",
       "      <td>0</td>\n",
       "      <td>113572</td>\n",
       "      <td>80.00</td>\n",
       "      <td>B28</td>\n",
       "      <td>NaN</td>\n",
       "    </tr>\n",
       "  </tbody>\n",
       "</table>\n",
       "</div>"
      ],
      "text/plain": [
       "     PassengerId  Survived  Pclass                                       Name  \\\n",
       "61            62      1.00       1                        Icard, Miss. Amelie   \n",
       "829          830      1.00       1  Stone, Mrs. George Nelson (Martha Evelyn)   \n",
       "\n",
       "        Sex   Age  SibSp  Parch  Ticket  Fare Cabin Embarked  \n",
       "61   female 38.00      0      0  113572 80.00   B28      NaN  \n",
       "829  female 62.00      0      0  113572 80.00   B28      NaN  "
      ]
     },
     "execution_count": 22,
     "metadata": {},
     "output_type": "execute_result"
    }
   ],
   "source": [
    "# Try to fill nan value\n",
    "# Have a look for the nan value first\n",
    "combine[combine['Embarked'].isnull()]"
   ]
  },
  {
   "cell_type": "code",
   "execution_count": 23,
   "id": "cc7b3902",
   "metadata": {
    "execution": {
     "iopub.execute_input": "2022-11-23T22:41:32.766472Z",
     "iopub.status.busy": "2022-11-23T22:41:32.766131Z",
     "iopub.status.idle": "2022-11-23T22:41:32.780848Z",
     "shell.execute_reply": "2022-11-23T22:41:32.779910Z"
    },
    "papermill": {
     "duration": 0.030539,
     "end_time": "2022-11-23T22:41:32.782700",
     "exception": false,
     "start_time": "2022-11-23T22:41:32.752161",
     "status": "completed"
    },
    "tags": []
   },
   "outputs": [
    {
     "data": {
      "text/plain": [
       "(     PassengerId Cabin Embarked\n",
       " 61            62   B28      NaN\n",
       " 829          830   B28      NaN,\n",
       "      PassengerId  Ticket Embarked\n",
       " 61            62  113572      NaN\n",
       " 829          830  113572      NaN,\n",
       " S    914\n",
       " C    270\n",
       " Q    123\n",
       " Name: Embarked, dtype: int64)"
      ]
     },
     "execution_count": 23,
     "metadata": {},
     "output_type": "execute_result"
    }
   ],
   "source": [
    "# These 2 passenger share the same Ticket and Cabin value, let see if there is any order record with the same ticket and Cabin value .\n",
    "# Only these 2 record are with Cabin B28 and Ticket 113572 which are the null value themselves\n",
    "# Given the fact that majority(70%) of passenger are from Southampton we would fill the na value with S\n",
    "(combine[combine['Cabin']=='B28'][['PassengerId','Cabin','Embarked']],combine[combine['Ticket']=='113572'][['PassengerId','Ticket','Embarked']],combine['Embarked'].value_counts())"
   ]
  },
  {
   "cell_type": "code",
   "execution_count": 24,
   "id": "cb09be0b",
   "metadata": {
    "execution": {
     "iopub.execute_input": "2022-11-23T22:41:32.810733Z",
     "iopub.status.busy": "2022-11-23T22:41:32.810411Z",
     "iopub.status.idle": "2022-11-23T22:41:32.819688Z",
     "shell.execute_reply": "2022-11-23T22:41:32.818351Z"
    },
    "papermill": {
     "duration": 0.025244,
     "end_time": "2022-11-23T22:41:32.821430",
     "exception": false,
     "start_time": "2022-11-23T22:41:32.796186",
     "status": "completed"
    },
    "tags": []
   },
   "outputs": [
    {
     "data": {
      "text/plain": [
       "S    916\n",
       "C    270\n",
       "Q    123\n",
       "Name: Embarked, dtype: int64"
      ]
     },
     "execution_count": 24,
     "metadata": {},
     "output_type": "execute_result"
    }
   ],
   "source": [
    "# Filling the na value\n",
    "combine['Embarked'].fillna('S',inplace=True)\n",
    "train_df['Embarked'].fillna('S',inplace=True)\n",
    "test_df['Embarked'].fillna('S',inplace=True)\n",
    "combine['Embarked'].value_counts(dropna=False)"
   ]
  },
  {
   "cell_type": "code",
   "execution_count": 25,
   "id": "501316e6",
   "metadata": {
    "execution": {
     "iopub.execute_input": "2022-11-23T22:41:32.849986Z",
     "iopub.status.busy": "2022-11-23T22:41:32.849507Z",
     "iopub.status.idle": "2022-11-23T22:41:33.265249Z",
     "shell.execute_reply": "2022-11-23T22:41:33.263622Z"
    },
    "papermill": {
     "duration": 0.433405,
     "end_time": "2022-11-23T22:41:33.267739",
     "exception": false,
     "start_time": "2022-11-23T22:41:32.834334",
     "status": "completed"
    },
    "tags": []
   },
   "outputs": [
    {
     "data": {
      "image/png": "[encoded data removed]",
      "text/plain": [
       "<Figure size 720x360 with 2 Axes>"
      ]
     },
     "metadata": {
      "needs_background": "light"
     },
     "output_type": "display_data"
    }
   ],
   "source": [
    "# Majority of passenger are in the age of 15-40 years old.\n",
    "# Children whose age below 5 have a higher survival rate\n",
    "# Passenger with age 15-40 have a lower survial rate\n",
    "age_dist = sns.displot(data=train_df,x='Age',col='Survived',binwidth=5,binrange=[0,80])"
   ]
  },
  {
   "cell_type": "code",
   "execution_count": 26,
   "id": "09272552",
   "metadata": {
    "execution": {
     "iopub.execute_input": "2022-11-23T22:41:33.296232Z",
     "iopub.status.busy": "2022-11-23T22:41:33.295448Z",
     "iopub.status.idle": "2022-11-23T22:41:33.327724Z",
     "shell.execute_reply": "2022-11-23T22:41:33.326451Z"
    },
    "papermill": {
     "duration": 0.049908,
     "end_time": "2022-11-23T22:41:33.330843",
     "exception": false,
     "start_time": "2022-11-23T22:41:33.280935",
     "status": "completed"
    },
    "tags": []
   },
   "outputs": [
    {
     "name": "stdout",
     "output_type": "stream",
     "text": [
      "          count  mean   std  min   25%   50%   75%   max\n",
      "Embarked                                                \n",
      "C        212.00 32.33 15.26 0.42 22.00 30.00 45.00 71.00\n",
      "Q         50.00 28.63 15.05 2.00 19.00 26.50 34.88 70.50\n",
      "S        784.00 29.30 14.08 0.17 21.00 28.00 37.25 80.00\n",
      "        count  mean   std  min   25%   50%   75%   max\n",
      "Pclass                                                \n",
      "1      284.00 39.16 14.55 0.92 28.00 39.00 50.00 80.00\n",
      "2      261.00 29.51 13.64 0.67 22.00 29.00 36.00 70.00\n",
      "3      501.00 24.82 11.96 0.17 18.00 24.00 32.00 74.00\n",
      "        count  mean   std  min   25%   50%   75%   max\n",
      "Sex                                                   \n",
      "female 388.00 28.69 14.58 0.17 19.00 27.00 38.00 76.00\n",
      "male   658.00 30.59 14.28 0.33 21.00 28.00 39.00 80.00\n"
     ]
    }
   ],
   "source": [
    "# Lets check if there is any sigifcant difference in mean and median of age using difference among grouping by difference metrics\n",
    "# a larger age mean&median difference across Class while less difference across Sex & Embarked\n",
    "# Action assign the na value equal to median value of his/her Pclass\n",
    "print(combine.groupby(['Embarked'])['Age'].describe())\n",
    "print(combine.groupby(['Pclass'])['Age'].describe())\n",
    "print(combine.groupby(['Sex'])['Age'].describe())"
   ]
  },
  {
   "cell_type": "code",
   "execution_count": 27,
   "id": "31678af3",
   "metadata": {
    "execution": {
     "iopub.execute_input": "2022-11-23T22:41:33.359349Z",
     "iopub.status.busy": "2022-11-23T22:41:33.359037Z",
     "iopub.status.idle": "2022-11-23T22:41:33.366430Z",
     "shell.execute_reply": "2022-11-23T22:41:33.364983Z"
    },
    "papermill": {
     "duration": 0.023762,
     "end_time": "2022-11-23T22:41:33.368279",
     "exception": false,
     "start_time": "2022-11-23T22:41:33.344517",
     "status": "completed"
    },
    "tags": []
   },
   "outputs": [],
   "source": [
    "Pclass_va = combine.groupby('Pclass')['Age'].median().to_dict()\n",
    "Pclass_va\n",
    "\n",
    "def fill_age(col1,col2,dict):\n",
    "    if pd.isnull(col1):\n",
    "        return dict[col2]\n",
    "    else :\n",
    "        return col1\n",
    "    \n"
   ]
  },
  {
   "cell_type": "code",
   "execution_count": 28,
   "id": "55b15aba",
   "metadata": {
    "execution": {
     "iopub.execute_input": "2022-11-23T22:41:33.397214Z",
     "iopub.status.busy": "2022-11-23T22:41:33.396837Z",
     "iopub.status.idle": "2022-11-23T22:41:33.406232Z",
     "shell.execute_reply": "2022-11-23T22:41:33.405134Z"
    },
    "papermill": {
     "duration": 0.026438,
     "end_time": "2022-11-23T22:41:33.408095",
     "exception": false,
     "start_time": "2022-11-23T22:41:33.381657",
     "status": "completed"
    },
    "tags": []
   },
   "outputs": [
    {
     "name": "stdout",
     "output_type": "stream",
     "text": [
      "    Age  Pclass\n",
      "0 10.00       1\n",
      "1 20.00       2\n",
      "2 30.00       3\n",
      "3 40.00       1\n",
      "4   NaN       1\n",
      "5   NaN       2\n",
      "6   NaN       3\n",
      "0   10.00\n",
      "1   20.00\n",
      "2   30.00\n",
      "3   40.00\n",
      "4   39.00\n",
      "5   29.00\n",
      "6   24.00\n",
      "dtype: float64\n"
     ]
    }
   ],
   "source": [
    "# Testing the function to ensure it works\n",
    "test = pd.DataFrame({'Age':[10,20,30,40,None,None,None],'Pclass':[1,2,3,1,1,2,3]})\n",
    "print(test)\n",
    "print(test.apply(lambda x: fill_age(x['Age'],x['Pclass'],Pclass_va),axis=1))"
   ]
  },
  {
   "cell_type": "code",
   "execution_count": 29,
   "id": "c0052b58",
   "metadata": {
    "execution": {
     "iopub.execute_input": "2022-11-23T22:41:33.434682Z",
     "iopub.status.busy": "2022-11-23T22:41:33.434318Z",
     "iopub.status.idle": "2022-11-23T22:41:33.486678Z",
     "shell.execute_reply": "2022-11-23T22:41:33.485379Z"
    },
    "papermill": {
     "duration": 0.068518,
     "end_time": "2022-11-23T22:41:33.489047",
     "exception": false,
     "start_time": "2022-11-23T22:41:33.420529",
     "status": "completed"
    },
    "tags": []
   },
   "outputs": [
    {
     "data": {
      "text/plain": [
       "0"
      ]
     },
     "execution_count": 29,
     "metadata": {},
     "output_type": "execute_result"
    }
   ],
   "source": [
    "# filling na\n",
    "combine['Age_filled'] = combine.apply(lambda x: fill_age(x['Age'],x['Pclass'],Pclass_va),axis=1)\n",
    "train_df['Age_filled'] = train_df.apply(lambda x: fill_age(x['Age'],x['Pclass'],Pclass_va),axis=1)\n",
    "test_df['Age_filled'] = test_df.apply(lambda x: fill_age(x['Age'],x['Pclass'],Pclass_va),axis=1)\n",
    "# no null value after filling\n",
    "combine['Age_filled'].isnull().sum()\n",
    "train_df['Age_filled'].isnull().sum()\n",
    "test_df['Age_filled'].isnull().sum()"
   ]
  },
  {
   "cell_type": "markdown",
   "id": "902dc3b4",
   "metadata": {
    "papermill": {
     "duration": 0.012334,
     "end_time": "2022-11-23T22:41:33.514493",
     "exception": false,
     "start_time": "2022-11-23T22:41:33.502159",
     "status": "completed"
    },
    "tags": []
   },
   "source": [
    "# Converting \n",
    "* convert the data into form that suitable to put into the model to train"
   ]
  },
  {
   "cell_type": "code",
   "execution_count": 30,
   "id": "f2d033dc",
   "metadata": {
    "execution": {
     "iopub.execute_input": "2022-11-23T22:41:33.543666Z",
     "iopub.status.busy": "2022-11-23T22:41:33.543333Z",
     "iopub.status.idle": "2022-11-23T22:41:33.558406Z",
     "shell.execute_reply": "2022-11-23T22:41:33.556824Z"
    },
    "papermill": {
     "duration": 0.03361,
     "end_time": "2022-11-23T22:41:33.560757",
     "exception": false,
     "start_time": "2022-11-23T22:41:33.527147",
     "status": "completed"
    },
    "tags": []
   },
   "outputs": [
    {
     "data": {
      "text/html": [
       "<div>\n",
       "<style scoped>\n",
       "    .dataframe tbody tr th:only-of-type {\n",
       "        vertical-align: middle;\n",
       "    }\n",
       "\n",
       "    .dataframe tbody tr th {\n",
       "        vertical-align: top;\n",
       "    }\n",
       "\n",
       "    .dataframe thead th {\n",
       "        text-align: right;\n",
       "    }\n",
       "</style>\n",
       "<table border=\"1\" class=\"dataframe\">\n",
       "  <thead>\n",
       "    <tr style=\"text-align: right;\">\n",
       "      <th></th>\n",
       "      <th>PassengerId</th>\n",
       "      <th>Survived</th>\n",
       "      <th>Pclass</th>\n",
       "      <th>Name</th>\n",
       "      <th>Sex</th>\n",
       "      <th>Age</th>\n",
       "      <th>SibSp</th>\n",
       "      <th>Parch</th>\n",
       "      <th>Ticket</th>\n",
       "      <th>Fare</th>\n",
       "      <th>Cabin</th>\n",
       "      <th>Embarked</th>\n",
       "      <th>fam_mem</th>\n",
       "      <th>Age_filled</th>\n",
       "    </tr>\n",
       "  </thead>\n",
       "  <tbody>\n",
       "    <tr>\n",
       "      <th>0</th>\n",
       "      <td>1</td>\n",
       "      <td>0</td>\n",
       "      <td>3</td>\n",
       "      <td>Braund, Mr. Owen Harris</td>\n",
       "      <td>male</td>\n",
       "      <td>22.00</td>\n",
       "      <td>1</td>\n",
       "      <td>0</td>\n",
       "      <td>A/5 21171</td>\n",
       "      <td>7.25</td>\n",
       "      <td>NaN</td>\n",
       "      <td>S</td>\n",
       "      <td>1</td>\n",
       "      <td>22.00</td>\n",
       "    </tr>\n",
       "    <tr>\n",
       "      <th>1</th>\n",
       "      <td>2</td>\n",
       "      <td>1</td>\n",
       "      <td>1</td>\n",
       "      <td>Cumings, Mrs. John Bradley (Florence Briggs Th...</td>\n",
       "      <td>female</td>\n",
       "      <td>38.00</td>\n",
       "      <td>1</td>\n",
       "      <td>0</td>\n",
       "      <td>PC 17599</td>\n",
       "      <td>71.28</td>\n",
       "      <td>C85</td>\n",
       "      <td>C</td>\n",
       "      <td>1</td>\n",
       "      <td>38.00</td>\n",
       "    </tr>\n",
       "    <tr>\n",
       "      <th>2</th>\n",
       "      <td>3</td>\n",
       "      <td>1</td>\n",
       "      <td>3</td>\n",
       "      <td>Heikkinen, Miss. Laina</td>\n",
       "      <td>female</td>\n",
       "      <td>26.00</td>\n",
       "      <td>0</td>\n",
       "      <td>0</td>\n",
       "      <td>STON/O2. 3101282</td>\n",
       "      <td>7.92</td>\n",
       "      <td>NaN</td>\n",
       "      <td>S</td>\n",
       "      <td>0</td>\n",
       "      <td>26.00</td>\n",
       "    </tr>\n",
       "    <tr>\n",
       "      <th>3</th>\n",
       "      <td>4</td>\n",
       "      <td>1</td>\n",
       "      <td>1</td>\n",
       "      <td>Futrelle, Mrs. Jacques Heath (Lily May Peel)</td>\n",
       "      <td>female</td>\n",
       "      <td>35.00</td>\n",
       "      <td>1</td>\n",
       "      <td>0</td>\n",
       "      <td>113803</td>\n",
       "      <td>53.10</td>\n",
       "      <td>C123</td>\n",
       "      <td>S</td>\n",
       "      <td>1</td>\n",
       "      <td>35.00</td>\n",
       "    </tr>\n",
       "    <tr>\n",
       "      <th>4</th>\n",
       "      <td>5</td>\n",
       "      <td>0</td>\n",
       "      <td>3</td>\n",
       "      <td>Allen, Mr. William Henry</td>\n",
       "      <td>male</td>\n",
       "      <td>35.00</td>\n",
       "      <td>0</td>\n",
       "      <td>0</td>\n",
       "      <td>373450</td>\n",
       "      <td>8.05</td>\n",
       "      <td>NaN</td>\n",
       "      <td>S</td>\n",
       "      <td>0</td>\n",
       "      <td>35.00</td>\n",
       "    </tr>\n",
       "  </tbody>\n",
       "</table>\n",
       "</div>"
      ],
      "text/plain": [
       "   PassengerId  Survived  Pclass  \\\n",
       "0            1         0       3   \n",
       "1            2         1       1   \n",
       "2            3         1       3   \n",
       "3            4         1       1   \n",
       "4            5         0       3   \n",
       "\n",
       "                                                Name     Sex   Age  SibSp  \\\n",
       "0                            Braund, Mr. Owen Harris    male 22.00      1   \n",
       "1  Cumings, Mrs. John Bradley (Florence Briggs Th...  female 38.00      1   \n",
       "2                             Heikkinen, Miss. Laina  female 26.00      0   \n",
       "3       Futrelle, Mrs. Jacques Heath (Lily May Peel)  female 35.00      1   \n",
       "4                           Allen, Mr. William Henry    male 35.00      0   \n",
       "\n",
       "   Parch            Ticket  Fare Cabin Embarked  fam_mem  Age_filled  \n",
       "0      0         A/5 21171  7.25   NaN        S        1       22.00  \n",
       "1      0          PC 17599 71.28   C85        C        1       38.00  \n",
       "2      0  STON/O2. 3101282  7.92   NaN        S        0       26.00  \n",
       "3      0            113803 53.10  C123        S        1       35.00  \n",
       "4      0            373450  8.05   NaN        S        0       35.00  "
      ]
     },
     "execution_count": 30,
     "metadata": {},
     "output_type": "execute_result"
    }
   ],
   "source": [
    "train_df.head()"
   ]
  },
  {
   "cell_type": "code",
   "execution_count": 31,
   "id": "23772028",
   "metadata": {
    "execution": {
     "iopub.execute_input": "2022-11-23T22:41:33.590966Z",
     "iopub.status.busy": "2022-11-23T22:41:33.590629Z",
     "iopub.status.idle": "2022-11-23T22:41:33.603514Z",
     "shell.execute_reply": "2022-11-23T22:41:33.602629Z"
    },
    "papermill": {
     "duration": 0.030765,
     "end_time": "2022-11-23T22:41:33.605819",
     "exception": false,
     "start_time": "2022-11-23T22:41:33.575054",
     "status": "completed"
    },
    "tags": []
   },
   "outputs": [
    {
     "name": "stdout",
     "output_type": "stream",
     "text": [
      "<class 'pandas.core.frame.DataFrame'>\n",
      "RangeIndex: 891 entries, 0 to 890\n",
      "Data columns (total 14 columns):\n",
      " #   Column       Non-Null Count  Dtype  \n",
      "---  ------       --------------  -----  \n",
      " 0   PassengerId  891 non-null    int64  \n",
      " 1   Survived     891 non-null    int64  \n",
      " 2   Pclass       891 non-null    int64  \n",
      " 3   Name         891 non-null    object \n",
      " 4   Sex          891 non-null    object \n",
      " 5   Age          714 non-null    float64\n",
      " 6   SibSp        891 non-null    int64  \n",
      " 7   Parch        891 non-null    int64  \n",
      " 8   Ticket       891 non-null    object \n",
      " 9   Fare         891 non-null    float64\n",
      " 10  Cabin        204 non-null    object \n",
      " 11  Embarked     891 non-null    object \n",
      " 12  fam_mem      891 non-null    int64  \n",
      " 13  Age_filled   891 non-null    float64\n",
      "dtypes: float64(3), int64(6), object(5)\n",
      "memory usage: 97.6+ KB\n"
     ]
    }
   ],
   "source": [
    "train_df.info()"
   ]
  },
  {
   "cell_type": "code",
   "execution_count": 32,
   "id": "27cf9fbe",
   "metadata": {
    "execution": {
     "iopub.execute_input": "2022-11-23T22:41:33.636359Z",
     "iopub.status.busy": "2022-11-23T22:41:33.635999Z",
     "iopub.status.idle": "2022-11-23T22:41:33.644531Z",
     "shell.execute_reply": "2022-11-23T22:41:33.643327Z"
    },
    "papermill": {
     "duration": 0.025857,
     "end_time": "2022-11-23T22:41:33.646649",
     "exception": false,
     "start_time": "2022-11-23T22:41:33.620792",
     "status": "completed"
    },
    "tags": []
   },
   "outputs": [],
   "source": [
    "train_df['Sex_conv'] = train_df['Sex'].map({'male':0,'female':1})\n",
    "test_df['Sex_conv'] = test_df['Sex'].map({'male':0,'female':1})"
   ]
  },
  {
   "cell_type": "code",
   "execution_count": 33,
   "id": "9d86b59c",
   "metadata": {
    "execution": {
     "iopub.execute_input": "2022-11-23T22:41:33.675712Z",
     "iopub.status.busy": "2022-11-23T22:41:33.675371Z",
     "iopub.status.idle": "2022-11-23T22:41:33.691923Z",
     "shell.execute_reply": "2022-11-23T22:41:33.690333Z"
    },
    "papermill": {
     "duration": 0.033883,
     "end_time": "2022-11-23T22:41:33.694178",
     "exception": false,
     "start_time": "2022-11-23T22:41:33.660295",
     "status": "completed"
    },
    "tags": []
   },
   "outputs": [],
   "source": [
    "train_df['Age_group'] =  pd.cut(train_df['Age_filled'],[0,5,15,25,60,80])\n",
    "test_df['Age_group'] =  pd.cut(test_df['Age_filled'],[0,5,15,25,60,80])"
   ]
  },
  {
   "cell_type": "code",
   "execution_count": 34,
   "id": "63f0c276",
   "metadata": {
    "execution": {
     "iopub.execute_input": "2022-11-23T22:41:33.725415Z",
     "iopub.status.busy": "2022-11-23T22:41:33.724427Z",
     "iopub.status.idle": "2022-11-23T22:41:33.755790Z",
     "shell.execute_reply": "2022-11-23T22:41:33.754153Z"
    },
    "papermill": {
     "duration": 0.049979,
     "end_time": "2022-11-23T22:41:33.758250",
     "exception": false,
     "start_time": "2022-11-23T22:41:33.708271",
     "status": "completed"
    },
    "tags": []
   },
   "outputs": [
    {
     "name": "stdout",
     "output_type": "stream",
     "text": [
      "Survived Rate per Age_group\n"
     ]
    },
    {
     "data": {
      "text/html": [
       "<div>\n",
       "<style scoped>\n",
       "    .dataframe tbody tr th:only-of-type {\n",
       "        vertical-align: middle;\n",
       "    }\n",
       "\n",
       "    .dataframe tbody tr th {\n",
       "        vertical-align: top;\n",
       "    }\n",
       "\n",
       "    .dataframe thead tr th {\n",
       "        text-align: left;\n",
       "    }\n",
       "\n",
       "    .dataframe thead tr:last-of-type th {\n",
       "        text-align: right;\n",
       "    }\n",
       "</style>\n",
       "<table border=\"1\" class=\"dataframe\">\n",
       "  <thead>\n",
       "    <tr>\n",
       "      <th></th>\n",
       "      <th colspan=\"2\" halign=\"left\">count</th>\n",
       "      <th colspan=\"2\" halign=\"left\">rate</th>\n",
       "    </tr>\n",
       "    <tr>\n",
       "      <th>Survived</th>\n",
       "      <th>0</th>\n",
       "      <th>1</th>\n",
       "      <th>0</th>\n",
       "      <th>1</th>\n",
       "    </tr>\n",
       "    <tr>\n",
       "      <th>Age_group</th>\n",
       "      <th></th>\n",
       "      <th></th>\n",
       "      <th></th>\n",
       "      <th></th>\n",
       "    </tr>\n",
       "  </thead>\n",
       "  <tbody>\n",
       "    <tr>\n",
       "      <th>(0, 5]</th>\n",
       "      <td>13</td>\n",
       "      <td>31</td>\n",
       "      <td>29.55</td>\n",
       "      <td>70.45</td>\n",
       "    </tr>\n",
       "    <tr>\n",
       "      <th>(5, 15]</th>\n",
       "      <td>21</td>\n",
       "      <td>18</td>\n",
       "      <td>53.85</td>\n",
       "      <td>46.15</td>\n",
       "    </tr>\n",
       "    <tr>\n",
       "      <th>(15, 25]</th>\n",
       "      <td>245</td>\n",
       "      <td>109</td>\n",
       "      <td>69.21</td>\n",
       "      <td>30.79</td>\n",
       "    </tr>\n",
       "    <tr>\n",
       "      <th>(25, 60]</th>\n",
       "      <td>253</td>\n",
       "      <td>179</td>\n",
       "      <td>58.56</td>\n",
       "      <td>41.44</td>\n",
       "    </tr>\n",
       "    <tr>\n",
       "      <th>(60, 80]</th>\n",
       "      <td>17</td>\n",
       "      <td>5</td>\n",
       "      <td>77.27</td>\n",
       "      <td>22.73</td>\n",
       "    </tr>\n",
       "  </tbody>\n",
       "</table>\n",
       "</div>"
      ],
      "text/plain": [
       "          count       rate      \n",
       "Survived      0    1     0     1\n",
       "Age_group                       \n",
       "(0, 5]       13   31 29.55 70.45\n",
       "(5, 15]      21   18 53.85 46.15\n",
       "(15, 25]    245  109 69.21 30.79\n",
       "(25, 60]    253  179 58.56 41.44\n",
       "(60, 80]     17    5 77.27 22.73"
      ]
     },
     "execution_count": 34,
     "metadata": {},
     "output_type": "execute_result"
    }
   ],
   "source": [
    "#grouping by age in this 5 groups which have shown difference in survival rate\n",
    "\n",
    "print('Survived Rate per Age_group')\n",
    "Age_group_sur = train_df.pivot_table(index=['Age_group'],columns=['Survived'],values=['PassengerId'],aggfunc='count')\n",
    "Age_group_sur[[('rate',0),('rate',1)]] = Age_group_sur['PassengerId'].apply(lambda x:x/x.sum(),axis=1)*100\n",
    "Age_group_sur = Age_group_sur.rename({'PassengerId':'count'},axis=1).fillna(0)\n",
    "Age_group_sur"
   ]
  },
  {
   "cell_type": "code",
   "execution_count": 35,
   "id": "a2a4176d",
   "metadata": {
    "execution": {
     "iopub.execute_input": "2022-11-23T22:41:33.787972Z",
     "iopub.status.busy": "2022-11-23T22:41:33.787641Z",
     "iopub.status.idle": "2022-11-23T22:41:33.793971Z",
     "shell.execute_reply": "2022-11-23T22:41:33.792737Z"
    },
    "papermill": {
     "duration": 0.024112,
     "end_time": "2022-11-23T22:41:33.796475",
     "exception": false,
     "start_time": "2022-11-23T22:41:33.772363",
     "status": "completed"
    },
    "tags": []
   },
   "outputs": [],
   "source": [
    "Age_group = train_df['Age_group'].unique().to_numpy()\n",
    "Age_group = np.sort(Age_group)\n",
    "Agedict = {Age_group[i] : i for i in range(len(Age_group))}"
   ]
  },
  {
   "cell_type": "code",
   "execution_count": 36,
   "id": "975e2b67",
   "metadata": {
    "execution": {
     "iopub.execute_input": "2022-11-23T22:41:33.826354Z",
     "iopub.status.busy": "2022-11-23T22:41:33.826036Z",
     "iopub.status.idle": "2022-11-23T22:41:33.837290Z",
     "shell.execute_reply": "2022-11-23T22:41:33.835455Z"
    },
    "papermill": {
     "duration": 0.029083,
     "end_time": "2022-11-23T22:41:33.839876",
     "exception": false,
     "start_time": "2022-11-23T22:41:33.810793",
     "status": "completed"
    },
    "tags": []
   },
   "outputs": [
    {
     "name": "stdout",
     "output_type": "stream",
     "text": [
      "Age group :  {Interval(0, 5, closed='right'): 0, Interval(5, 15, closed='right'): 1, Interval(15, 25, closed='right'): 2, Interval(25, 60, closed='right'): 3, Interval(60, 80, closed='right'): 4}\n"
     ]
    }
   ],
   "source": [
    "print('Age group : ', Agedict)\n",
    "train_df['Age_group_conv'] = train_df['Age_group'].map(Agedict)\n",
    "test_df['Age_group_conv'] = test_df['Age_group'].map(Agedict)"
   ]
  },
  {
   "cell_type": "code",
   "execution_count": 37,
   "id": "4341373b",
   "metadata": {
    "execution": {
     "iopub.execute_input": "2022-11-23T22:41:33.871531Z",
     "iopub.status.busy": "2022-11-23T22:41:33.871231Z",
     "iopub.status.idle": "2022-11-23T22:41:33.880540Z",
     "shell.execute_reply": "2022-11-23T22:41:33.879663Z"
    },
    "papermill": {
     "duration": 0.026289,
     "end_time": "2022-11-23T22:41:33.882331",
     "exception": false,
     "start_time": "2022-11-23T22:41:33.856042",
     "status": "completed"
    },
    "tags": []
   },
   "outputs": [],
   "source": [
    "#converting string value for Embarked into [0,1,2] \n",
    "train_df['Embarked'].unique()\n",
    "Embarked_dict = {train_df['Embarked'].unique()[i] : i for i in range(len(train_df['Embarked'].unique()))}\n",
    "train_df['Embarked_conv'] = train_df['Embarked'].map(Embarked_dict)\n",
    "test_df['Embarked_conv'] = test_df['Embarked'].map(Embarked_dict)"
   ]
  },
  {
   "cell_type": "code",
   "execution_count": 38,
   "id": "33c7d1ae",
   "metadata": {
    "execution": {
     "iopub.execute_input": "2022-11-23T22:41:33.914414Z",
     "iopub.status.busy": "2022-11-23T22:41:33.913525Z",
     "iopub.status.idle": "2022-11-23T22:41:33.922469Z",
     "shell.execute_reply": "2022-11-23T22:41:33.920971Z"
    },
    "papermill": {
     "duration": 0.027331,
     "end_time": "2022-11-23T22:41:33.924420",
     "exception": false,
     "start_time": "2022-11-23T22:41:33.897089",
     "status": "completed"
    },
    "tags": []
   },
   "outputs": [],
   "source": [
    "#Converting fam_mem_sur to group.\n",
    "#Grouping 4-6 as one group and 7 & 10 as another other group.\n",
    "fam_mem_dict={}\n",
    "for i in range(0,11):\n",
    "    if i <4:\n",
    "        fam_mem_dict[i]=i\n",
    "    elif i in [4,5,6]:\n",
    "        fam_mem_dict[i]=4\n",
    "    elif i in [7,8,9,10]:\n",
    "        fam_mem_dict[i]=5\n",
    "train_df['fam_mem_conv'] = train_df['fam_mem'].map(fam_mem_dict)\n",
    "test_df['fam_mem_conv'] = test_df['fam_mem'].map(fam_mem_dict)"
   ]
  },
  {
   "cell_type": "code",
   "execution_count": 39,
   "id": "9a924f45",
   "metadata": {
    "execution": {
     "iopub.execute_input": "2022-11-23T22:41:33.954811Z",
     "iopub.status.busy": "2022-11-23T22:41:33.953504Z",
     "iopub.status.idle": "2022-11-23T22:41:33.976246Z",
     "shell.execute_reply": "2022-11-23T22:41:33.974880Z"
    },
    "papermill": {
     "duration": 0.039756,
     "end_time": "2022-11-23T22:41:33.978803",
     "exception": false,
     "start_time": "2022-11-23T22:41:33.939047",
     "status": "completed"
    },
    "tags": []
   },
   "outputs": [
    {
     "name": "stdout",
     "output_type": "stream",
     "text": [
      "Fare group :  {Interval(-0.001, 7.896, closed='right'): 0, Interval(7.896, 14.454, closed='right'): 1, Interval(14.454, 31.275, closed='right'): 2, Interval(31.275, 512.329, closed='right'): 3}\n"
     ]
    }
   ],
   "source": [
    "# Converting fare data by 4 quartile\n",
    "f_group = [combine['Fare'].min(), combine['Fare'].quantile(0.25),combine['Fare'].quantile(0.5),combine['Fare'].quantile(0.75),combine['Fare'].max()]\n",
    "train_df['fare_group'] =  pd.cut(train_df['Fare'],f_group,include_lowest=True)\n",
    "test_df['fare_group'] =  pd.cut(test_df['Fare'],f_group,include_lowest=True)\n",
    "\n",
    "#geting the interval object\n",
    "fare_group = np.sort(train_df['fare_group'].unique().to_numpy())\n",
    "fare_dict = {fare_group[i] : i for i in range(len(fare_group))}\n",
    "\n",
    "print('Fare group : ', fare_dict)\n",
    "train_df['fare_group_conv'] = train_df['fare_group'].map(fare_dict)\n",
    "test_df['fare_group_conv'] = test_df['fare_group'].map(fare_dict)"
   ]
  },
  {
   "cell_type": "code",
   "execution_count": 40,
   "id": "9d5bc26c",
   "metadata": {
    "execution": {
     "iopub.execute_input": "2022-11-23T22:41:34.008668Z",
     "iopub.status.busy": "2022-11-23T22:41:34.007668Z",
     "iopub.status.idle": "2022-11-23T22:41:34.015640Z",
     "shell.execute_reply": "2022-11-23T22:41:34.014433Z"
    },
    "papermill": {
     "duration": 0.024871,
     "end_time": "2022-11-23T22:41:34.018260",
     "exception": false,
     "start_time": "2022-11-23T22:41:33.993389",
     "status": "completed"
    },
    "tags": []
   },
   "outputs": [],
   "source": [
    "#Extracting converted element\n",
    "y_train, X_train =train_df['Survived'],train_df[['Pclass','Sex_conv','Age_group_conv','Embarked_conv','fam_mem_conv','fare_group_conv']]\n",
    "X_test =test_df[['Pclass','Sex_conv','Age_group_conv','Embarked_conv','fam_mem_conv','fare_group_conv']]"
   ]
  },
  {
   "cell_type": "markdown",
   "id": "38e58c45",
   "metadata": {
    "papermill": {
     "duration": 0.01377,
     "end_time": "2022-11-23T22:41:34.046208",
     "exception": false,
     "start_time": "2022-11-23T22:41:34.032438",
     "status": "completed"
    },
    "tags": []
   },
   "source": [
    "# Modeling & Predicting\n",
    "\n",
    "# KNN Method"
   ]
  },
  {
   "cell_type": "code",
   "execution_count": 41,
   "id": "8140e48c",
   "metadata": {
    "execution": {
     "iopub.execute_input": "2022-11-23T22:41:34.075619Z",
     "iopub.status.busy": "2022-11-23T22:41:34.075295Z",
     "iopub.status.idle": "2022-11-23T22:41:34.419830Z",
     "shell.execute_reply": "2022-11-23T22:41:34.418377Z"
    },
    "papermill": {
     "duration": 0.361813,
     "end_time": "2022-11-23T22:41:34.422077",
     "exception": false,
     "start_time": "2022-11-23T22:41:34.060264",
     "status": "completed"
    },
    "tags": []
   },
   "outputs": [
    {
     "name": "stdout",
     "output_type": "stream",
     "text": [
      "Score for knn method is 88.0\n"
     ]
    }
   ],
   "source": [
    "from sklearn import neighbors, metrics\n",
    "\n",
    "#using sqrt(size) as k\n",
    "#distance is used for weights considering \n",
    "knn = neighbors.KNeighborsClassifier(n_neighbors=36,weights='distance')\n",
    "\n",
    "#train the model\n",
    "knn.fit(X_train , y_train)\n",
    "\n",
    "#get prediction\n",
    "y_predict = knn.predict(X_test)\n",
    "\n",
    "# get score\n",
    "\n",
    "print('Score for knn method is', round(knn.score(X_train,y_train),2)*100)"
   ]
  },
  {
   "cell_type": "code",
   "execution_count": null,
   "id": "ae03158c",
   "metadata": {
    "papermill": {
     "duration": 0.015447,
     "end_time": "2022-11-23T22:41:34.452425",
     "exception": false,
     "start_time": "2022-11-23T22:41:34.436978",
     "status": "completed"
    },
    "tags": []
   },
   "outputs": [],
   "source": []
  }
 ],
 "metadata": {
  "kernelspec": {
   "display_name": "Python 3",
   "language": "python",
   "name": "python3"
  },
  "language_info": {
   "codemirror_mode": {
    "name": "ipython",
    "version": 3
   },
   "file_extension": ".py",
   "mimetype": "text/x-python",
   "name": "python",
   "nbconvert_exporter": "python",
   "pygments_lexer": "ipython3",
   "version": "3.7.12"
  },
  "papermill": {
   "default_parameters": {},
   "duration": 14.295157,
   "end_time": "2022-11-23T22:41:35.188441",
   "environment_variables": {},
   "exception": null,
   "input_path": "__notebook__.ipynb",
   "output_path": "__notebook__.ipynb",
   "parameters": {},
   "start_time": "2022-11-23T22:41:20.893284",
   "version": "2.3.4"
  }
 },
 "nbformat": 4,
 "nbformat_minor": 5
}
